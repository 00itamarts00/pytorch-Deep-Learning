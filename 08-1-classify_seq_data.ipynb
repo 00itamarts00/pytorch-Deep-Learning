{
 "cells": [
  {
   "cell_type": "markdown",
   "metadata": {
    "collapsed": true
   },
   "source": [
    "# An example of many-to-one (sequence classification)\n",
    "\n",
    "Original experiment from [Hochreiter & Schmidhuber (1997)](www.bioinf.jku.at/publications/older/2604.pdf).\n",
    "\n",
    "The goal is to classify sequences.  \n",
    "Elements and targets are represented locally (input vectors with only one non-zero bit).  \n",
    "The sequence starts with an `B`, ends with a `E` (the “trigger symbol”), and otherwise consists of randomly chosen symbols from the set `{a, b, c, d}` except for two elements at positions `t1` and `t2` that are either `X` or `Y`.  \n",
    "For the `DifficultyLevel.HARD` case, the sequence length is randomly chosen between `100` and `110`, `t1` is randomly chosen between `10` and `20`, and `t2` is randomly chosen between `50` and `60`.  \n",
    "There are `4` sequence classes `Q`, `R`, `S`, and `U`, which depend on the temporal order of `X` and `Y`.\n",
    "\n",
    "The rules are:\n",
    "\n",
    "```\n",
    "X, X -> Q,\n",
    "X, Y -> R,\n",
    "Y, X -> S,\n",
    "Y, Y -> U.\n",
    "```"
   ]
  },
  {
   "cell_type": "code",
   "execution_count": null,
   "metadata": {},
   "outputs": [],
   "source": [
    "from sequential_tasks import TemporalOrderExp6aSequence\n",
    "\n",
    "# generate data\n",
    "dg = TemporalOrderExp6aSequence.get_predefined_generator(\n",
    "    TemporalOrderExp6aSequence.DifficultyLevel.EASY\n",
    ")"
   ]
  },
  {
   "cell_type": "code",
   "execution_count": null,
   "metadata": {},
   "outputs": [],
   "source": [
    "# Raw sequences and their classes:\n",
    "for n in range(5):\n",
    "    x, y = dg.generate_pair()\n",
    "    print('{} ----> {}'.format(x, y))"
   ]
  },
  {
   "cell_type": "code",
   "execution_count": null,
   "metadata": {},
   "outputs": [],
   "source": [
    "# Encoding our data into RNN-friendly data format\n",
    "\n",
    "# Single data pair example:\n",
    "x, y = dg.generate_pair()\n",
    "print('{} ----> {}'.format(x, y))\n",
    "    \n",
    "enc_x = dg.encode_x(x)\n",
    "enc_y = dg.encode_y(y)\n",
    "\n",
    "print('Encoded input sequence:')\n",
    "print(enc_x)\n",
    "print('Encoded output sequence:')\n",
    "print(enc_y)"
   ]
  },
  {
   "cell_type": "code",
   "execution_count": null,
   "metadata": {},
   "outputs": [],
   "source": [
    "# let's take a batch of training pairs\n",
    "batch_x, batch_y = dg[0]\n",
    "\n",
    "# batch_x has the shape (batch_size, max_seq_length, num_symbols)\n",
    "print('Batch_x shape = ', batch_x.shape)\n",
    "\n",
    "# batch_y has the shape (batch_size, num_classes)\n",
    "print('Batch_y shape = ', batch_y.shape)\n",
    "\n",
    "# inputs are zero-padded (added zero prefix)\n",
    "# to obtain sequences of equal length\n",
    "print(batch_x[0])"
   ]
  }
 ],
 "metadata": {
  "kernelspec": {
   "display_name": "Python 3",
   "language": "python",
   "name": "python3"
  },
  "language_info": {
   "codemirror_mode": {
    "name": "ipython",
    "version": 3
   },
   "file_extension": ".py",
   "mimetype": "text/x-python",
   "name": "python",
   "nbconvert_exporter": "python",
   "pygments_lexer": "ipython3",
   "version": "3.6.7"
  }
 },
 "nbformat": 4,
 "nbformat_minor": 1
}
