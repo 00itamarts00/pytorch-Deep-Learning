{
 "cells": [
  {
   "cell_type": "markdown",
   "metadata": {},
   "source": [
    "Before we start doing anything, I think it's important to understand for NLP, this is the intuitive process on what we are trying to do when we are processing our data in the IMDB dataset:\n",
    "1. Tokenization: break sentence into individual words\n",
    "    - Before: `\"PyTorch seems really easy to use!\"`\n",
    "    - After: `[\"PyTorch\", \"seems\", \"really\", \"easy\", \"to\", \"use\", \"!\"]`\n",
    "2. Building vocabulary: build an index of words associated with unique numbers\n",
    "    - Before: `[\"PyTorch\", \"seems\", \"really\", \"easy\", \"to\", \"use\", \"!\"]`\n",
    "    - After: `{\"Pytorch: 0, \"seems\": 1, \"really\": 2, ...}`\n",
    "3. Convert to numerals: map words to unique numbers (indices)\n",
    "    - Before: `{\"Pytorch: 0, \"seems\": 1, \"really\": 2, ...}`\n",
    "    - After: `[0, 1, 2, ...]`\n",
    "4. Embedding look-up: map sentences (indices now) to fixed matrices\n",
    "    - ```[[0.1, 0.4, 0.3],\n",
    "       [0.8, 0.1, 0.5],\n",
    "       ...]```"
   ]
  },
  {
   "cell_type": "code",
   "execution_count": 1,
   "metadata": {},
   "outputs": [],
   "source": [
    "# Critical plotting imports\n",
    "import matplotlib.pyplot as plt\n",
    "%matplotlib inline\n",
    "\n",
    "# PyTorch imports\n",
    "from torchtext import data, datasets\n",
    "import torch\n",
    "import torch.nn as nn\n",
    "import torch.nn.functional as F\n",
    "\n",
    "# Checking for iterable objects\n",
    "import collections\n",
    "import random"
   ]
  },
  {
   "cell_type": "code",
   "execution_count": 2,
   "metadata": {},
   "outputs": [],
   "source": [
    "# Set seed\n",
    "torch.manual_seed(1337)\n",
    "if torch.cuda.is_available():\n",
    "    torch.cuda.manual_seed_all(1337)"
   ]
  },
  {
   "cell_type": "code",
   "execution_count": 3,
   "metadata": {},
   "outputs": [],
   "source": [
    "# Set plotting style\n",
    "plt.style.use(('dark_background', 'bmh'))\n",
    "plt.rc('axes', facecolor='none')\n",
    "plt.rc('figure', figsize=(16, 4))"
   ]
  },
  {
   "cell_type": "code",
   "execution_count": 4,
   "metadata": {},
   "outputs": [],
   "source": [
    "# Create instances of fields\n",
    "# The important field here is fix_length: all examples using this field will be padded to, or None for flexible sequence lengths\n",
    "# We are fixing this because we will be using a FNN not an LSTM/RNN/GRU where we can go through uneven sequence lengths\n",
    "max_len = 80\n",
    "text = data.Field(sequential=True, fix_length=max_len, batch_first=True, lower=True, dtype=torch.long)\n",
    "label = data.LabelField(sequential=False, dtype=torch.float)"
   ]
  },
  {
   "cell_type": "code",
   "execution_count": 5,
   "metadata": {},
   "outputs": [],
   "source": [
    "# Calling splits() class method of datasets.IMDB to return a torchtext.data.Dataset object\n",
    "ds_train, ds_test = datasets.IMDB.splits(text, label)"
   ]
  },
  {
   "cell_type": "code",
   "execution_count": 6,
   "metadata": {},
   "outputs": [
    {
     "name": "stdout",
     "output_type": "stream",
     "text": [
      "train :  25000\n",
      "test :  25000\n",
      "train.fields : {'label': <torchtext.data.field.LabelField object at 0x7fb86f78d630>, 'text': <torchtext.data.field.Field object at 0x7fb86f78d668>}\n"
     ]
    }
   ],
   "source": [
    "# Training and test set each 25k samples\n",
    "# 2 fields due to the way we split above\n",
    "print('train : ', len(ds_train))\n",
    "print('test : ', len(ds_test))\n",
    "print('train.fields :', ds_train.fields)"
   ]
  },
  {
   "cell_type": "code",
   "execution_count": 7,
   "metadata": {},
   "outputs": [],
   "source": [
    "# Get validation set\n",
    "seed_num = 1337\n",
    "ds_train, ds_valid = ds_train.split(random_state=random.seed(seed_num))"
   ]
  },
  {
   "cell_type": "code",
   "execution_count": 8,
   "metadata": {},
   "outputs": [
    {
     "name": "stdout",
     "output_type": "stream",
     "text": [
      "train :  17500\n",
      "valid :  7500\n",
      "valid :  25000\n"
     ]
    }
   ],
   "source": [
    "# Now we've training, validation and test set\n",
    "print('train : ', len(ds_train))\n",
    "print('valid : ', len(ds_valid))\n",
    "print('valid : ', len(ds_test))"
   ]
  },
  {
   "cell_type": "code",
   "execution_count": 9,
   "metadata": {},
   "outputs": [],
   "source": [
    "# Build vocabulary\n",
    "# num_words = 25000\n",
    "num_words = 1000\n",
    "text.build_vocab(ds_train, max_size=num_words)\n",
    "label.build_vocab(ds_train)"
   ]
  },
  {
   "cell_type": "code",
   "execution_count": 10,
   "metadata": {},
   "outputs": [
    {
     "name": "stdout",
     "output_type": "stream",
     "text": [
      "Vocabulary size: 1002\n",
      "Label size: 2\n"
     ]
    }
   ],
   "source": [
    "# Print vocab size\n",
    "print('Vocabulary size: {}'.format(len(text.vocab)))\n",
    "print('Label size: {}'.format(len(label.vocab)))"
   ]
  },
  {
   "cell_type": "code",
   "execution_count": 11,
   "metadata": {},
   "outputs": [
    {
     "name": "stdout",
     "output_type": "stream",
     "text": [
      "[('the', 225938), ('a', 112571), ('and', 111513), ('of', 101389), ('to', 94175), ('is', 72550), ('in', 63886), ('i', 49428), ('this', 49096), ('that', 46809)]\n"
     ]
    }
   ],
   "source": [
    "# Print most common vocabulary text\n",
    "most_common_samples = 10\n",
    "print(text.vocab.freqs.most_common(most_common_samples))"
   ]
  },
  {
   "cell_type": "code",
   "execution_count": 12,
   "metadata": {},
   "outputs": [
    {
     "name": "stdout",
     "output_type": "stream",
     "text": [
      "[('neg', 8835), ('pos', 8665)]\n"
     ]
    }
   ],
   "source": [
    "# Print most common labels\n",
    "print(label.vocab.freqs.most_common())"
   ]
  },
  {
   "cell_type": "code",
   "execution_count": 13,
   "metadata": {},
   "outputs": [
    {
     "data": {
      "text/plain": [
       "'neg'"
      ]
     },
     "execution_count": 13,
     "metadata": {},
     "output_type": "execute_result"
    }
   ],
   "source": [
    "# Sample 0 label\n",
    "ds_train[0].label"
   ]
  },
  {
   "cell_type": "code",
   "execution_count": 14,
   "metadata": {
    "scrolled": true
   },
   "outputs": [
    {
     "data": {
      "text/plain": [
       "['first',\n",
       " 'of',\n",
       " 'all',\n",
       " 'i',\n",
       " 'just',\n",
       " 'want',\n",
       " 'to',\n",
       " 'say',\n",
       " 'that',\n",
       " 'i',\n",
       " 'love',\n",
       " 'this',\n",
       " 'show!!!',\n",
       " 'but',\n",
       " 'this',\n",
       " 'episode...this',\n",
       " 'episode',\n",
       " 'makes',\n",
       " 'a',\n",
       " 'mockery',\n",
       " 'of',\n",
       " 'the',\n",
       " 'entire',\n",
       " 'show.<br',\n",
       " '/><br',\n",
       " '/>i',\n",
       " \"don't\",\n",
       " 'know',\n",
       " 'what',\n",
       " 'they',\n",
       " 'tried',\n",
       " 'to',\n",
       " 'achieve',\n",
       " 'with',\n",
       " 'this',\n",
       " 'episode',\n",
       " 'but',\n",
       " 'they',\n",
       " 'successfully',\n",
       " 'created',\n",
       " 'the',\n",
       " 'worst',\n",
       " 'episode',\n",
       " 'in',\n",
       " 'the',\n",
       " 'entire',\n",
       " 'series.<br',\n",
       " '/><br',\n",
       " '/>there',\n",
       " 'is',\n",
       " 'no',\n",
       " 'story',\n",
       " 'line,',\n",
       " 'everything',\n",
       " 'is',\n",
       " 'chaotic',\n",
       " 'and',\n",
       " 'the',\n",
       " 'jokes.....are',\n",
       " 'crap.<br',\n",
       " '/><br',\n",
       " '/>the',\n",
       " 'way',\n",
       " 'they',\n",
       " 'tried',\n",
       " 'to',\n",
       " 'answer',\n",
       " 'some',\n",
       " 'of',\n",
       " 'the',\n",
       " 'remaining',\n",
       " 'questions',\n",
       " 'in',\n",
       " 'the',\n",
       " 'game.....',\n",
       " 'for',\n",
       " 'example',\n",
       " '\"how',\n",
       " 'do',\n",
       " 'the',\n",
       " 'furlings',\n",
       " 'look',\n",
       " 'like\"',\n",
       " 'by',\n",
       " 'creating',\n",
       " 'that',\n",
       " 'stupid',\n",
       " '\"previously',\n",
       " 'on...\"......is',\n",
       " 'simply',\n",
       " 'embarrassing.<br',\n",
       " '/><br',\n",
       " '/>its',\n",
       " 'clear',\n",
       " 'that',\n",
       " 'the',\n",
       " 'writers',\n",
       " 'are',\n",
       " 'running',\n",
       " 'out',\n",
       " 'of',\n",
       " 'ideas',\n",
       " 'and',\n",
       " 'that',\n",
       " 'is',\n",
       " 'really',\n",
       " 'too',\n",
       " 'bad.']"
      ]
     },
     "execution_count": 14,
     "metadata": {},
     "output_type": "execute_result"
    }
   ],
   "source": [
    "# Sample 0 text: broken down into individual portions\n",
    "ds_train[0].text"
   ]
  },
  {
   "cell_type": "code",
   "execution_count": 15,
   "metadata": {},
   "outputs": [
    {
     "name": "stdout",
     "output_type": "stream",
     "text": [
      "first of all i just want to say that i love this show!!! but this episode...this episode makes a mockery of the entire show.<br /><br />i don't know what they tried to achieve with this episode but they successfully created the worst episode in the entire series.<br /><br />there is no story line, everything is chaotic and the jokes.....are crap.<br /><br />the way they tried to answer some of the remaining questions in the game..... for example \"how do the furlings look like\" by creating that stupid \"previously on...\"......is simply embarrassing.<br /><br />its clear that the writers are running out of ideas and that is really too bad.\n"
     ]
    }
   ],
   "source": [
    "# Sample 0 text: human readeable sample\n",
    "def show_text(sample):\n",
    "    print(' '.join(word for word in sample))\n",
    "    \n",
    "show_text(ds_train[0].text)"
   ]
  },
  {
   "cell_type": "code",
   "execution_count": 16,
   "metadata": {},
   "outputs": [],
   "source": [
    "# Create and iterable object for our training, validation and testing datasets\n",
    "# Batches examples of similar lengths together that minimizes amount of padding needed\n",
    "batch_size = 64  # Change batch size from 1 to bigger number once explanation is done\n",
    "train_loader, valid_loader, test_loader = data.BucketIterator.splits(\n",
    "    (ds_train, ds_valid, ds_test), batch_size=batch_size, sort_key=lambda x: len(x.text), repeat=False\n",
    ")"
   ]
  },
  {
   "cell_type": "code",
   "execution_count": 17,
   "metadata": {},
   "outputs": [
    {
     "data": {
      "text/plain": [
       "True"
      ]
     },
     "execution_count": 17,
     "metadata": {},
     "output_type": "execute_result"
    }
   ],
   "source": [
    "# Check if iterator above is an iterable which should show True\n",
    "isinstance(train_loader, collections.Iterable)"
   ]
  },
  {
   "cell_type": "code",
   "execution_count": 18,
   "metadata": {},
   "outputs": [
    {
     "data": {
      "text/plain": [
       "\n",
       "[torchtext.data.batch.Batch of size 64]\n",
       "\t[.label]:[torch.FloatTensor of size 64]\n",
       "\t[.text]:[torch.LongTensor of size 64x80]"
      ]
     },
     "execution_count": 18,
     "metadata": {},
     "output_type": "execute_result"
    }
   ],
   "source": [
    "# What's inside this iteratable object? Our text and label although now everything is in machine format (not \"words\") but in numbers!\n",
    "# The text we saw above becomes a matrix of size 1 x 80 represented by the fixed length we defined before that\n",
    "list(train_loader)[0]"
   ]
  },
  {
   "cell_type": "code",
   "execution_count": 19,
   "metadata": {},
   "outputs": [
    {
     "data": {
      "text/plain": [
       "\n",
       "[torchtext.data.batch.Batch of size 64]\n",
       "\t[.label]:[torch.FloatTensor of size 64]\n",
       "\t[.text]:[torch.LongTensor of size 64x80]"
      ]
     },
     "execution_count": 19,
     "metadata": {},
     "output_type": "execute_result"
    }
   ],
   "source": [
    "# Alternative to above, this is much faster but the above code is easy to understand and implement\n",
    "next(train_loader.__iter__())"
   ]
  },
  {
   "cell_type": "code",
   "execution_count": 20,
   "metadata": {},
   "outputs": [],
   "source": [
    "test_batch = next(train_loader.__iter__())"
   ]
  },
  {
   "cell_type": "code",
   "execution_count": 21,
   "metadata": {},
   "outputs": [
    {
     "data": {
      "text/plain": [
       "dict_keys(['label', 'text'])"
      ]
     },
     "execution_count": 21,
     "metadata": {},
     "output_type": "execute_result"
    }
   ],
   "source": [
    "# What methods can we call on this batch object? Text and label\n",
    "test_batch.fields"
   ]
  },
  {
   "cell_type": "code",
   "execution_count": 22,
   "metadata": {},
   "outputs": [
    {
     "data": {
      "text/plain": [
       "tensor([[   9,   61,  222,  ...,   37,    2,    0],\n",
       "        [   0,  173,    6,  ...,    1,    1,    1],\n",
       "        [ 944,    0,  397,  ...,   44,    0,    0],\n",
       "        ...,\n",
       "        [   9,   54,  499,  ...,    0,   11,  112],\n",
       "        [   9,  222,    3,  ...,  161,   14,    8],\n",
       "        [  49,    9,   82,  ...,    3,   56,    0]])"
      ]
     },
     "execution_count": 22,
     "metadata": {},
     "output_type": "execute_result"
    }
   ],
   "source": [
    "# Let's break this down to check what's in a batch\n",
    "test_batch.text"
   ]
  },
  {
   "cell_type": "code",
   "execution_count": 23,
   "metadata": {},
   "outputs": [
    {
     "data": {
      "text/plain": [
       "torch.Size([64, 80])"
      ]
     },
     "execution_count": 23,
     "metadata": {},
     "output_type": "execute_result"
    }
   ],
   "source": [
    "# 1 comment per batch, each comment is limited to a size of 80 as we've defined\n",
    "test_batch.text.size()"
   ]
  },
  {
   "cell_type": "code",
   "execution_count": 24,
   "metadata": {},
   "outputs": [
    {
     "data": {
      "text/plain": [
       "tensor([ 1.,  0.,  0.,  1.,  1.,  0.,  1.,  1.,  1.,  1.,  0.,  0.,\n",
       "         1.,  0.,  1.,  0.,  0.,  0.,  1.,  0.,  1.,  0.,  0.,  0.,\n",
       "         1.,  0.,  1.,  0.,  0.,  0.,  0.,  1.,  0.,  1.,  1.,  1.,\n",
       "         0.,  1.,  1.,  0.,  1.,  1.,  1.,  0.,  0.,  0.,  0.,  0.,\n",
       "         0.,  1.,  0.,  1.,  0.,  0.,  1.,  1.,  0.,  0.,  0.,  1.,\n",
       "         0.,  1.,  0.,  1.])"
      ]
     },
     "execution_count": 24,
     "metadata": {},
     "output_type": "execute_result"
    }
   ],
   "source": [
    "test_batch.label"
   ]
  },
  {
   "cell_type": "code",
   "execution_count": 25,
   "metadata": {},
   "outputs": [],
   "source": [
    "# Extremely weird problem in torchtext where BucketIterator returns a Batch object versus just a simple tuple of tensors containing our text index and labels\n",
    "# So let's fix this with a new class FixBatchGenerator\n",
    "\n",
    "class FixBatchGenerator:\n",
    "    def __init__(self, dl, x_field, y_field):\n",
    "        self.dl, self.x_field, self.y_field = dl, x_field, y_field\n",
    "        \n",
    "    def __len__(self):\n",
    "        return len(self.dl)\n",
    "    \n",
    "    def __iter__(self):\n",
    "        for batch in self.dl:\n",
    "            X = getattr(batch, self.x_field)\n",
    "            y = getattr(batch, self.y_field)\n",
    "            yield (X,y)\n",
    "            \n",
    "train_loader, valid_loader, test_loader = FixBatchGenerator(train_loader, 'text', 'label'), FixBatchGenerator(valid_loader, 'text', 'label'), FixBatchGenerator(test_loader, 'text', 'label')"
   ]
  },
  {
   "cell_type": "code",
   "execution_count": 26,
   "metadata": {},
   "outputs": [
    {
     "name": "stdout",
     "output_type": "stream",
     "text": [
      "tensor([[  441,   103,   581,  ...,     1,     1,     1],\n",
      "        [    0,   224,   399,  ...,   229,     3,     0],\n",
      "        [   49,    25,   208,  ...,   599,     0,     0],\n",
      "        ...,\n",
      "        [    9,    14,    23,  ...,     0,    14,    50],\n",
      "        [   10,     7,     3,  ...,     0,    38,   284],\n",
      "        [  194,    71,     3,  ...,   186,     4,   312]])\n",
      "tensor([ 1.,  0.,  0.,  0.,  1.,  0.,  0.,  1.,  1.,  1.,  0.,  0.,\n",
      "         1.,  1.,  0.,  1.,  0.,  1.,  0.,  1.,  1.,  1.,  0.,  1.,\n",
      "         1.,  1.,  1.,  0.,  0.,  1.,  1.,  0.,  1.,  1.,  0.,  0.,\n",
      "         0.,  1.,  1.,  1.,  1.,  1.,  0.,  1.,  1.,  1.,  0.,  1.,\n",
      "         1.,  1.,  1.,  0.,  0.,  1.,  0.,  0.,  0.,  0.,  1.,  1.,\n",
      "         1.,  0.,  1.,  0.])\n"
     ]
    }
   ],
   "source": [
    "# Text index\n",
    "print(next(train_loader.__iter__())[0])\n",
    "\n",
    "# Text label\n",
    "print(next(train_loader.__iter__())[1])"
   ]
  },
  {
   "cell_type": "code",
   "execution_count": 27,
   "metadata": {},
   "outputs": [],
   "source": [
    "class FeedforwardNeuralNetModel(nn.Module):\n",
    "    def __init__(self, input_dim, embedding_dim, hidden_dim, output_dim):\n",
    "        super(FeedforwardNeuralNetModel, self).__init__()\n",
    "        # Embedding layer\n",
    "        self.embedding = nn.Embedding(input_dim, embedding_dim)\n",
    "        \n",
    "        # Linear function\n",
    "        self.fc1 = nn.Linear(embedding_dim*embedding_dim, hidden_dim) \n",
    "\n",
    "        # Linear function (readout)\n",
    "        self.fc2 = nn.Linear(hidden_dim, output_dim)\n",
    "        \n",
    "    def forward(self, x):\n",
    "        # Embedding\n",
    "        embedded = self.embedding(x)\n",
    "        embedded = embedded.view(-1, embedding_dim*embedding_dim)\n",
    "        # Linear function  # LINEAR\n",
    "        out = self.fc1(embedded)\n",
    "\n",
    "        # Non-linearity  # NON-LINEAR\n",
    "        out = F.relu(out)\n",
    "        out = F.dropout(out, 0.8)\n",
    "\n",
    "        # Linear function (readout)  # LINEAR\n",
    "        out = self.fc2(out)\n",
    "        out = F.sigmoid(out)\n",
    "    \n",
    "        return out"
   ]
  },
  {
   "cell_type": "code",
   "execution_count": 28,
   "metadata": {},
   "outputs": [],
   "source": [
    "input_dim = num_words + 2\n",
    "embedding_dim = max_len\n",
    "hidden_dim = 32\n",
    "output_dim = 1\n",
    "\n",
    "# Instantiate model class and assign to object\n",
    "model = FeedforwardNeuralNetModel(input_dim, embedding_dim, hidden_dim, output_dim)\n",
    "\n",
    "# Push model to CUDA device if available\n",
    "device = torch.device(\"cuda:0\" if torch.cuda.is_available() else \"cpu\")\n",
    "model.to(device)\n",
    "\n",
    "# Loss function\n",
    "criterion = nn.BCELoss()\n",
    "\n",
    "# Optimizer\n",
    "optimizer = torch.optim.Adam(model.parameters(), lr=1e-4)"
   ]
  },
  {
   "cell_type": "code",
   "execution_count": 29,
   "metadata": {},
   "outputs": [
    {
     "name": "stdout",
     "output_type": "stream",
     "text": [
      "Number of groups of parameters 5\n",
      "--------------------------------------------------\n",
      "torch.Size([1002, 80])\n",
      "torch.Size([32, 6400])\n",
      "torch.Size([32])\n",
      "torch.Size([1, 32])\n",
      "torch.Size([1])\n",
      "--------------------------------------------------\n"
     ]
    }
   ],
   "source": [
    "# Number of groups of parameters\n",
    "print('Number of groups of parameters {}'.format(len(list(model.parameters()))))\n",
    "print('-'*50)\n",
    "# Print parameters\n",
    "for i in range(len(list(model.parameters()))):\n",
    "    print(list(model.parameters())[i].size())\n",
    "print('-'*50)"
   ]
  },
  {
   "cell_type": "code",
   "execution_count": 30,
   "metadata": {
    "scrolled": true
   },
   "outputs": [
    {
     "name": "stdout",
     "output_type": "stream",
     "text": [
      "Iter: 100 | Train Loss: 0.6980435848236084 | Val Loss: 0.6868502497673035 | Val Accuracy: 51.95\n",
      "Iter: 200 | Train Loss: 0.6644342541694641 | Val Loss: 0.6923518180847168 | Val Accuracy: 53.36\n",
      "Iter: 300 | Train Loss: 0.6613801717758179 | Val Loss: 0.760021448135376 | Val Accuracy: 54.97\n",
      "Iter: 400 | Train Loss: 0.673904299736023 | Val Loss: 0.7628712058067322 | Val Accuracy: 55.55\n",
      "Iter: 500 | Train Loss: 0.6563446521759033 | Val Loss: 0.7760634422302246 | Val Accuracy: 56.53\n",
      "Iter: 600 | Train Loss: 0.5828384160995483 | Val Loss: 0.7273943424224854 | Val Accuracy: 57.37\n",
      "Iter: 700 | Train Loss: 0.5236313939094543 | Val Loss: 0.7867918014526367 | Val Accuracy: 57.73\n",
      "Iter: 800 | Train Loss: 0.5789859294891357 | Val Loss: 0.762665331363678 | Val Accuracy: 57.89\n",
      "Iter: 900 | Train Loss: 0.5666465163230896 | Val Loss: 0.7606501579284668 | Val Accuracy: 58.16\n",
      "Iter: 1000 | Train Loss: 0.5156959891319275 | Val Loss: 0.7643177509307861 | Val Accuracy: 58.05\n",
      "Iter: 1100 | Train Loss: 0.4692261219024658 | Val Loss: 0.7436663508415222 | Val Accuracy: 59.15\n",
      "Iter: 1200 | Train Loss: 0.5178536176681519 | Val Loss: 0.7140054702758789 | Val Accuracy: 59.25\n",
      "Iter: 1300 | Train Loss: 0.46141383051872253 | Val Loss: 0.7494940757751465 | Val Accuracy: 59.41\n",
      "Iter: 1400 | Train Loss: 0.34873539209365845 | Val Loss: 0.759788990020752 | Val Accuracy: 59.12\n",
      "Iter: 1500 | Train Loss: 0.36970263719558716 | Val Loss: 0.7283642888069153 | Val Accuracy: 59.0\n",
      "Iter: 1600 | Train Loss: 0.3650214672088623 | Val Loss: 0.7339377403259277 | Val Accuracy: 59.36\n",
      "Iter: 1700 | Train Loss: 0.3413754105567932 | Val Loss: 0.7717635631561279 | Val Accuracy: 59.63\n",
      "Iter: 1800 | Train Loss: 0.359511137008667 | Val Loss: 0.7767457962036133 | Val Accuracy: 59.52\n",
      "Iter: 1900 | Train Loss: 0.3539298176765442 | Val Loss: 0.73072749376297 | Val Accuracy: 59.49\n",
      "Iter: 2000 | Train Loss: 0.3111932575702667 | Val Loss: 0.7079482674598694 | Val Accuracy: 59.01\n",
      "Iter: 2100 | Train Loss: 0.27181750535964966 | Val Loss: 0.7433792948722839 | Val Accuracy: 59.6\n",
      "Iter: 2200 | Train Loss: 0.22374045848846436 | Val Loss: 0.7503259181976318 | Val Accuracy: 59.47\n",
      "Iter: 2300 | Train Loss: 0.2471412867307663 | Val Loss: 0.7471137046813965 | Val Accuracy: 59.35\n",
      "Iter: 2400 | Train Loss: 0.23150615394115448 | Val Loss: 0.8253076672554016 | Val Accuracy: 59.29\n",
      "Iter: 2500 | Train Loss: 0.21521100401878357 | Val Loss: 0.8583220839500427 | Val Accuracy: 59.8\n",
      "Iter: 2600 | Train Loss: 0.1974412202835083 | Val Loss: 0.7463794350624084 | Val Accuracy: 59.68\n",
      "Iter: 2700 | Train Loss: 0.20546363294124603 | Val Loss: 0.7590823769569397 | Val Accuracy: 59.73\n",
      "Iter: 2800 | Train Loss: 0.1657327264547348 | Val Loss: 0.8091306090354919 | Val Accuracy: 59.56\n",
      "Iter: 2900 | Train Loss: 0.2129404991865158 | Val Loss: 0.7447700500488281 | Val Accuracy: 59.81\n",
      "Iter: 3000 | Train Loss: 0.20020855963230133 | Val Loss: 0.8542399406433105 | Val Accuracy: 59.53\n",
      "Iter: 3100 | Train Loss: 0.12055966258049011 | Val Loss: 0.795477569103241 | Val Accuracy: 59.61\n",
      "Iter: 3200 | Train Loss: 0.16603879630565643 | Val Loss: 0.802507221698761 | Val Accuracy: 59.64\n",
      "Iter: 3300 | Train Loss: 0.11617735773324966 | Val Loss: 0.8392327427864075 | Val Accuracy: 59.75\n",
      "Iter: 3400 | Train Loss: 0.11365509033203125 | Val Loss: 0.8760259747505188 | Val Accuracy: 59.73\n",
      "Iter: 3500 | Train Loss: 0.1470620036125183 | Val Loss: 0.9397838711738586 | Val Accuracy: 59.87\n",
      "Iter: 3600 | Train Loss: 0.07464242726564407 | Val Loss: 0.8266008496284485 | Val Accuracy: 59.99\n",
      "Iter: 3700 | Train Loss: 0.10302230715751648 | Val Loss: 0.84937983751297 | Val Accuracy: 59.64\n",
      "Iter: 3800 | Train Loss: 0.10207107663154602 | Val Loss: 0.878889262676239 | Val Accuracy: 59.95\n",
      "Iter: 3900 | Train Loss: 0.09170344471931458 | Val Loss: 0.803777277469635 | Val Accuracy: 59.56\n",
      "Iter: 4000 | Train Loss: 0.08069686591625214 | Val Loss: 0.8370850682258606 | Val Accuracy: 59.45\n",
      "Iter: 4100 | Train Loss: 0.07652845978736877 | Val Loss: 0.8666911721229553 | Val Accuracy: 59.75\n",
      "Iter: 4200 | Train Loss: 0.059977684170007706 | Val Loss: 0.8067979216575623 | Val Accuracy: 59.77\n",
      "Iter: 4300 | Train Loss: 0.05642920732498169 | Val Loss: 0.8547218441963196 | Val Accuracy: 59.89\n",
      "Iter: 4400 | Train Loss: 0.05341386795043945 | Val Loss: 0.9063155651092529 | Val Accuracy: 59.87\n",
      "Iter: 4500 | Train Loss: 0.043499499559402466 | Val Loss: 0.9001932144165039 | Val Accuracy: 59.88\n",
      "Iter: 4600 | Train Loss: 0.06123313307762146 | Val Loss: 0.9410381317138672 | Val Accuracy: 59.99\n",
      "Iter: 4700 | Train Loss: 0.049681149423122406 | Val Loss: 0.9681040644645691 | Val Accuracy: 59.96\n",
      "Iter: 4800 | Train Loss: 0.05887565761804581 | Val Loss: 0.8489583134651184 | Val Accuracy: 59.75\n",
      "Iter: 4900 | Train Loss: 0.05039585754275322 | Val Loss: 0.9786418080329895 | Val Accuracy: 59.79\n",
      "Iter: 5000 | Train Loss: 0.03697403520345688 | Val Loss: 0.9543336033821106 | Val Accuracy: 59.88\n",
      "Iter: 5100 | Train Loss: 0.028856053948402405 | Val Loss: 1.0516496896743774 | Val Accuracy: 60.04\n",
      "Iter: 5200 | Train Loss: 0.0460246205329895 | Val Loss: 0.9434218406677246 | Val Accuracy: 59.61\n",
      "Iter: 5300 | Train Loss: 0.035724956542253494 | Val Loss: 0.9995588660240173 | Val Accuracy: 59.8\n",
      "Iter: 5400 | Train Loss: 0.03005140647292137 | Val Loss: 0.9945640563964844 | Val Accuracy: 59.83\n",
      "Iter: 5500 | Train Loss: 0.03045843355357647 | Val Loss: 0.9987335205078125 | Val Accuracy: 59.83\n",
      "Iter: 5600 | Train Loss: 0.02817821130156517 | Val Loss: 0.9616794586181641 | Val Accuracy: 59.92\n",
      "Iter: 5700 | Train Loss: 0.02838124707341194 | Val Loss: 1.041623592376709 | Val Accuracy: 60.03\n",
      "Iter: 5800 | Train Loss: 0.017742086201906204 | Val Loss: 0.9386110305786133 | Val Accuracy: 59.69\n",
      "Iter: 5900 | Train Loss: 0.01987919770181179 | Val Loss: 1.0096813440322876 | Val Accuracy: 60.0\n",
      "Iter: 6000 | Train Loss: 0.021494857966899872 | Val Loss: 1.1696292161941528 | Val Accuracy: 59.92\n",
      "Iter: 6100 | Train Loss: 0.0183098204433918 | Val Loss: 1.022257685661316 | Val Accuracy: 59.97\n",
      "Iter: 6200 | Train Loss: 0.01814735308289528 | Val Loss: 1.0177909135818481 | Val Accuracy: 60.01\n",
      "Iter: 6300 | Train Loss: 0.020206401124596596 | Val Loss: 1.0621033906936646 | Val Accuracy: 59.61\n",
      "Iter: 6400 | Train Loss: 0.012524791061878204 | Val Loss: 1.2033895254135132 | Val Accuracy: 59.88\n",
      "Iter: 6500 | Train Loss: 0.013539569452404976 | Val Loss: 1.0889860391616821 | Val Accuracy: 59.81\n",
      "Iter: 6600 | Train Loss: 0.012268222868442535 | Val Loss: 1.0373685359954834 | Val Accuracy: 59.87\n",
      "Iter: 6700 | Train Loss: 0.012185363098978996 | Val Loss: 1.1011306047439575 | Val Accuracy: 59.91\n",
      "Iter: 6800 | Train Loss: 0.011996397748589516 | Val Loss: 1.1236988306045532 | Val Accuracy: 59.93\n"
     ]
    }
   ],
   "source": [
    "iter = 0\n",
    "num_epochs = 25\n",
    "history_train_acc, history_val_acc, history_train_loss, history_val_loss = [], [], [], []\n",
    "for epoch in range(num_epochs):\n",
    "#     print('-'*50)\n",
    "    for i, (samples, labels) in enumerate(train_loader):\n",
    "        # Training mode\n",
    "        model.train()\n",
    "        \n",
    "        # Load samples\n",
    "        samples = samples.view(-1, max_len).to(device)\n",
    "        labels = labels.view(-1, 1).to(device)\n",
    "\n",
    "        # Clear gradients w.r.t. parameters\n",
    "        optimizer.zero_grad()\n",
    "\n",
    "        # Forward pass to get output/logits\n",
    "        outputs = model(samples)\n",
    "\n",
    "        # Calculate Loss: softmax --> cross entropy loss\n",
    "        loss = criterion(outputs, labels)\n",
    "\n",
    "        # Getting gradients w.r.t. parameters\n",
    "        loss.backward()\n",
    "\n",
    "        # Updating parameters\n",
    "        optimizer.step()\n",
    "\n",
    "        iter += 1\n",
    "\n",
    "        if iter % 100 == 0:\n",
    "            # Get training statistics\n",
    "            train_loss = loss.data.item()\n",
    "            \n",
    "            # Testing mode\n",
    "            model.eval()\n",
    "            # Calculate Accuracy         \n",
    "            correct = 0\n",
    "            total = 0\n",
    "            # Iterate through test dataset\n",
    "            for samples, labels in valid_loader:\n",
    "                # Load samples\n",
    "                samples = samples.view(-1, max_len).to(device)\n",
    "                labels = labels.view(-1).to(device)\n",
    "\n",
    "                # Forward pass only to get logits/output\n",
    "                outputs = model(samples)\n",
    "                \n",
    "                # Val loss\n",
    "                val_loss = criterion(outputs.view(-1, 1), labels.view(-1, 1))\n",
    "                \n",
    "                # We use a threshold to define \n",
    "                predicted = outputs.ge(0.5).view(-1)\n",
    "\n",
    "                # Total number of labels\n",
    "                total += labels.size(0)\n",
    "\n",
    "                # Total correct predictions\n",
    "                correct += (predicted.type(torch.FloatTensor).cpu() == labels.type(torch.FloatTensor)).sum()\n",
    "            \n",
    "            accuracy = 100. * correct.item() / total\n",
    "            # Print Loss\n",
    "            print('Iter: {} | Train Loss: {} | Val Loss: {} | Val Accuracy: {}'.format(iter, train_loss, val_loss.item(), round(accuracy, 2)))\n",
    "            \n",
    "            # Append to history\n",
    "            history_val_loss.append(val_loss.data.item())\n",
    "            history_val_acc.append(round(accuracy, 2))\n",
    "            history_train_loss.append(train_loss)"
   ]
  },
  {
   "cell_type": "code",
   "execution_count": 31,
   "metadata": {},
   "outputs": [
    {
     "data": {
      "image/png": "[encoded data removed]",
      "text/plain": [
       "<Figure size 1152x288 with 1 Axes>"
      ]
     },
     "metadata": {},
     "output_type": "display_data"
    }
   ],
   "source": [
    "plt.plot(history_train_loss, label='Train')\n",
    "plt.plot(history_val_loss, label='Validation')\n",
    "plt.title('Loss Graph')\n",
    "plt.legend()\n",
    "plt.show()"
   ]
  },
  {
   "cell_type": "code",
   "execution_count": 32,
   "metadata": {},
   "outputs": [
    {
     "data": {
      "text/plain": [
       "Text(0.5,1,'Validation Accuracy')"
      ]
     },
     "execution_count": 32,
     "metadata": {},
     "output_type": "execute_result"
    },
    {
     "data": {
      "image/png": "[encoded data removed]",
      "text/plain": [
       "<Figure size 1152x288 with 1 Axes>"
      ]
     },
     "metadata": {},
     "output_type": "display_data"
    }
   ],
   "source": [
    "plt.plot(history_val_acc)\n",
    "plt.title('Validation Accuracy')"
   ]
  }
 ],
 "metadata": {
  "kernelspec": {
   "display_name": "Python 3",
   "language": "python",
   "name": "python3"
  },
  "language_info": {
   "codemirror_mode": {
    "name": "ipython",
    "version": 3
   },
   "file_extension": ".py",
   "mimetype": "text/x-python",
   "name": "python",
   "nbconvert_exporter": "python",
   "pygments_lexer": "ipython3",
   "version": "3.5.5"
  }
 },
 "nbformat": 4,
 "nbformat_minor": 2
}
