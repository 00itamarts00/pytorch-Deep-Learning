{
 "cells": [
  {
   "cell_type": "code",
   "execution_count": 7,
   "metadata": {},
   "outputs": [],
   "source": [
    "from sequential_tasks import EchoData\n",
    "import numpy as np"
   ]
  },
  {
   "cell_type": "code",
   "execution_count": 8,
   "metadata": {},
   "outputs": [
    {
     "data": {
      "text/plain": [
       "<torch._C.Generator at 0x11a9ded30>"
      ]
     },
     "execution_count": 8,
     "metadata": {},
     "output_type": "execute_result"
    }
   ],
   "source": [
    "import torch\n",
    "import torch.nn as nn\n",
    "import torch.nn.functional as F\n",
    "import torch.optim as optim\n",
    "\n",
    "torch.manual_seed(1)"
   ]
  },
  {
   "cell_type": "code",
   "execution_count": 9,
   "metadata": {},
   "outputs": [],
   "source": [
    "class SimpleRNN(nn.Module):\n",
    "\n",
    "    def __init__(self, input_size, rnn_hidden_size, output_size, maxlen):\n",
    "\n",
    "        super(SimpleRNN, self).__init__()\n",
    "        self.rnn_hidden_size = rnn_hidden_size\n",
    "        self.rnn = torch.nn.RNN(input_size, self.rnn_hidden_size, num_layers=1, nonlinearity='relu', batch_first=True)\n",
    "        self.linear = torch.nn.Linear(rnn_hidden_size, 1)\n",
    "        self.maxlen = maxlen\n",
    "\n",
    "    def forward(self, x, hidden):\n",
    "        x, hidden = self.rnn(x, hidden)  \n",
    "        x = self.linear(x)\n",
    "        return nn.Sigmoid()(x), hidden\n",
    "\n",
    "    def init_hidden(self, batch_size):\n",
    "        weight = next(self.parameters()).data\n",
    "        return weight.new(1, batch_size, self.rnn_hidden_size).zero_()"
   ]
  },
  {
   "cell_type": "code",
   "execution_count": 20,
   "metadata": {},
   "outputs": [],
   "source": [
    "def echo_experiment(settings):\n",
    "    train_data_gen = EchoData(\n",
    "        series_length=settings['series_length'],\n",
    "        truncated_length=settings['truncated_length'],\n",
    "        echo_step=settings['echo_step'],\n",
    "        batch_size=settings['batch_size'])\n",
    "\n",
    "    feature_dim = 1 #since we have a scalar series\n",
    "    model = SimpleRNN(feature_dim, settings['h_units'], 1, train_data_gen.series_length)  \n",
    "\n",
    "    criterion = torch.nn.BCELoss()\n",
    "    optimizer = torch.optim.RMSprop(model.parameters(), lr=0.001)\n",
    "\n",
    "    epochs = settings['max_epochs']\n",
    "    log_interval = settings['log_interval']\n",
    "\n",
    "    epoch = 0\n",
    "    hidden = model.init_hidden(train_data_gen.batch_size)\n",
    "    while epoch < epochs:\n",
    "        predictions = []\n",
    "        truth_values = []\n",
    "   \n",
    "        for batch_idx, (xs, ys) in enumerate(train_data_gen):\n",
    "            xs, ys = torch.from_numpy(xs).float(), torch.from_numpy(ys).float()\n",
    "\n",
    "            y_pred, hidden = model(xs, hidden)\n",
    "            loss = criterion(y_pred, ys)\n",
    "            optimizer.zero_grad()\n",
    "            loss.backward(retain_graph=True)\n",
    "            #nn.utils.clip_grad_norm(model.parameters(), 0.5)\n",
    "            optimizer.step()\n",
    "\n",
    "            predictions.append(y_pred.cpu().data.numpy().ravel())\n",
    "            truth_values.append(ys.cpu().data.numpy().ravel())\n",
    "\n",
    "            if batch_idx % log_interval == 0:\n",
    "                print('Train Epoch: {}, mini-batch {} of {}, training loss: {:.6f}'.format(\n",
    "                    epoch, batch_idx, params['series_length']//params['truncated_length']*len(train_data_gen), loss.item()))\n",
    "\n",
    "        epoch += 1\n",
    "\n",
    "    # testing\n",
    "    test_data_gen = EchoData(\n",
    "        series_length=settings['series_length'],\n",
    "        truncated_length=settings['truncated_length'],\n",
    "        echo_step=settings['echo_step'],\n",
    "        batch_size=settings['batch_size'])\n",
    "\n",
    "    correct = 0\n",
    "    with torch.no_grad():\n",
    "        for i,(xs,ys) in enumerate(test_data_gen):\n",
    "            xs, ys = torch.from_numpy(xs).float(), torch.from_numpy(ys).float()\n",
    "            y_pred, hidden = model(xs, hidden)\n",
    "            pred = y_pred.max(1, keepdim=True)[1]\n",
    "            correct += pred.eq(ys.view_as(pred)).sum().item()\n",
    "\n",
    "    test_accuracy = float(correct) / len(test_data_gen)\n",
    "    print('\\nAccuracy: {}'.format(test_accuracy))\n",
    "\n",
    "    return test_accuracy"
   ]
  },
  {
   "cell_type": "code",
   "execution_count": 22,
   "metadata": {},
   "outputs": [
    {
     "name": "stdout",
     "output_type": "stream",
     "text": [
      "Train Epoch: 0, mini-batch 0 of 100, training loss: 0.693619\n",
      "Train Epoch: 0, mini-batch 10 of 100, training loss: 0.692699\n",
      "Train Epoch: 0, mini-batch 20 of 100, training loss: 0.692766\n",
      "Train Epoch: 0, mini-batch 30 of 100, training loss: 0.692478\n",
      "Train Epoch: 0, mini-batch 40 of 100, training loss: 0.691890\n",
      "Train Epoch: 0, mini-batch 50 of 100, training loss: 0.690434\n",
      "Train Epoch: 0, mini-batch 60 of 100, training loss: 0.680301\n",
      "Train Epoch: 0, mini-batch 70 of 100, training loss: 0.674338\n",
      "Train Epoch: 0, mini-batch 80 of 100, training loss: 0.672077\n",
      "Train Epoch: 0, mini-batch 90 of 100, training loss: 0.664456\n",
      "Train Epoch: 0, mini-batch 100 of 100, training loss: 0.665813\n",
      "Train Epoch: 0, mini-batch 110 of 100, training loss: 0.661633\n"
     ]
    },
    {
     "ename": "KeyboardInterrupt",
     "evalue": "",
     "output_type": "error",
     "traceback": [
      "\u001b[0;31m---------------------------------------------------------------------------\u001b[0m",
      "\u001b[0;31mKeyboardInterrupt\u001b[0m                         Traceback (most recent call last)",
      "\u001b[0;32m<ipython-input-22-75bb004e0f44>\u001b[0m in \u001b[0;36m<module>\u001b[0;34m()\u001b[0m\n\u001b[1;32m     10\u001b[0m }\n\u001b[1;32m     11\u001b[0m \u001b[0;34m\u001b[0m\u001b[0m\n\u001b[0;32m---> 12\u001b[0;31m \u001b[0macc\u001b[0m \u001b[0;34m=\u001b[0m \u001b[0mecho_experiment\u001b[0m\u001b[0;34m(\u001b[0m\u001b[0mparams\u001b[0m\u001b[0;34m)\u001b[0m\u001b[0;34m\u001b[0m\u001b[0m\n\u001b[0m\u001b[1;32m     13\u001b[0m \u001b[0mprint\u001b[0m\u001b[0;34m(\u001b[0m\u001b[0;34m'acc = {:.2f}%.'\u001b[0m\u001b[0;34m.\u001b[0m\u001b[0mformat\u001b[0m\u001b[0;34m(\u001b[0m\u001b[0macc\u001b[0m\u001b[0;34m)\u001b[0m\u001b[0;34m)\u001b[0m\u001b[0;34m\u001b[0m\u001b[0m\n",
      "\u001b[0;32m<ipython-input-20-7af82b1b882c>\u001b[0m in \u001b[0;36mecho_experiment\u001b[0;34m(settings)\u001b[0m\n\u001b[1;32m     27\u001b[0m             \u001b[0mloss\u001b[0m \u001b[0;34m=\u001b[0m \u001b[0mcriterion\u001b[0m\u001b[0;34m(\u001b[0m\u001b[0my_pred\u001b[0m\u001b[0;34m,\u001b[0m \u001b[0mys\u001b[0m\u001b[0;34m)\u001b[0m\u001b[0;34m\u001b[0m\u001b[0m\n\u001b[1;32m     28\u001b[0m             \u001b[0moptimizer\u001b[0m\u001b[0;34m.\u001b[0m\u001b[0mzero_grad\u001b[0m\u001b[0;34m(\u001b[0m\u001b[0;34m)\u001b[0m\u001b[0;34m\u001b[0m\u001b[0m\n\u001b[0;32m---> 29\u001b[0;31m             \u001b[0mloss\u001b[0m\u001b[0;34m.\u001b[0m\u001b[0mbackward\u001b[0m\u001b[0;34m(\u001b[0m\u001b[0mretain_graph\u001b[0m\u001b[0;34m=\u001b[0m\u001b[0;32mTrue\u001b[0m\u001b[0;34m)\u001b[0m\u001b[0;34m\u001b[0m\u001b[0m\n\u001b[0m\u001b[1;32m     30\u001b[0m             \u001b[0;31m#nn.utils.clip_grad_norm(model.parameters(), 0.5)\u001b[0m\u001b[0;34m\u001b[0m\u001b[0;34m\u001b[0m\u001b[0m\n\u001b[1;32m     31\u001b[0m             \u001b[0moptimizer\u001b[0m\u001b[0;34m.\u001b[0m\u001b[0mstep\u001b[0m\u001b[0;34m(\u001b[0m\u001b[0;34m)\u001b[0m\u001b[0;34m\u001b[0m\u001b[0m\n",
      "\u001b[0;32m/anaconda2/envs/CodasML/lib/python3.6/site-packages/torch/tensor.py\u001b[0m in \u001b[0;36mbackward\u001b[0;34m(self, gradient, retain_graph, create_graph)\u001b[0m\n\u001b[1;32m     91\u001b[0m                 \u001b[0mproducts\u001b[0m\u001b[0;34m.\u001b[0m \u001b[0mDefaults\u001b[0m \u001b[0mto\u001b[0m\u001b[0;31m \u001b[0m\u001b[0;31m`\u001b[0m\u001b[0;31m`\u001b[0m\u001b[0;32mFalse\u001b[0m\u001b[0;31m`\u001b[0m\u001b[0;31m`\u001b[0m\u001b[0;34m.\u001b[0m\u001b[0;34m\u001b[0m\u001b[0m\n\u001b[1;32m     92\u001b[0m         \"\"\"\n\u001b[0;32m---> 93\u001b[0;31m         \u001b[0mtorch\u001b[0m\u001b[0;34m.\u001b[0m\u001b[0mautograd\u001b[0m\u001b[0;34m.\u001b[0m\u001b[0mbackward\u001b[0m\u001b[0;34m(\u001b[0m\u001b[0mself\u001b[0m\u001b[0;34m,\u001b[0m \u001b[0mgradient\u001b[0m\u001b[0;34m,\u001b[0m \u001b[0mretain_graph\u001b[0m\u001b[0;34m,\u001b[0m \u001b[0mcreate_graph\u001b[0m\u001b[0;34m)\u001b[0m\u001b[0;34m\u001b[0m\u001b[0m\n\u001b[0m\u001b[1;32m     94\u001b[0m \u001b[0;34m\u001b[0m\u001b[0m\n\u001b[1;32m     95\u001b[0m     \u001b[0;32mdef\u001b[0m \u001b[0mregister_hook\u001b[0m\u001b[0;34m(\u001b[0m\u001b[0mself\u001b[0m\u001b[0;34m,\u001b[0m \u001b[0mhook\u001b[0m\u001b[0;34m)\u001b[0m\u001b[0;34m:\u001b[0m\u001b[0;34m\u001b[0m\u001b[0m\n",
      "\u001b[0;32m/anaconda2/envs/CodasML/lib/python3.6/site-packages/torch/autograd/__init__.py\u001b[0m in \u001b[0;36mbackward\u001b[0;34m(tensors, grad_tensors, retain_graph, create_graph, grad_variables)\u001b[0m\n\u001b[1;32m     87\u001b[0m     Variable._execution_engine.run_backward(\n\u001b[1;32m     88\u001b[0m         \u001b[0mtensors\u001b[0m\u001b[0;34m,\u001b[0m \u001b[0mgrad_tensors\u001b[0m\u001b[0;34m,\u001b[0m \u001b[0mretain_graph\u001b[0m\u001b[0;34m,\u001b[0m \u001b[0mcreate_graph\u001b[0m\u001b[0;34m,\u001b[0m\u001b[0;34m\u001b[0m\u001b[0m\n\u001b[0;32m---> 89\u001b[0;31m         allow_unreachable=True)  # allow_unreachable flag\n\u001b[0m\u001b[1;32m     90\u001b[0m \u001b[0;34m\u001b[0m\u001b[0m\n\u001b[1;32m     91\u001b[0m \u001b[0;34m\u001b[0m\u001b[0m\n",
      "\u001b[0;31mKeyboardInterrupt\u001b[0m: "
     ]
    }
   ],
   "source": [
    "# experiments settings\n",
    "params = {\n",
    "    \"series_length\": 20000,\n",
    "    \"echo_step\": 3,\n",
    "    \"truncated_length\": 2000,\n",
    "    \"batch_size\": 5,\n",
    "    \"h_units\": 4,\n",
    "    \"max_epochs\": 1,\n",
    "    \"log_interval\": 10\n",
    "}\n",
    "\n",
    "acc = echo_experiment(params)\n",
    "print('acc = {:.2f}%.'.format(acc))"
   ]
  },
  {
   "cell_type": "code",
   "execution_count": null,
   "metadata": {},
   "outputs": [],
   "source": []
  }
 ],
 "metadata": {
  "kernelspec": {
   "display_name": "Codas ML",
   "language": "python",
   "name": "codasml"
  },
  "language_info": {
   "codemirror_mode": {
    "name": "ipython",
    "version": 3
   },
   "file_extension": ".py",
   "mimetype": "text/x-python",
   "name": "python",
   "nbconvert_exporter": "python",
   "pygments_lexer": "ipython3",
   "version": "3.6.5"
  }
 },
 "nbformat": 4,
 "nbformat_minor": 1
}
