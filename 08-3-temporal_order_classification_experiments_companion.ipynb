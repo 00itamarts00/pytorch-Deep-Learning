{
 "cells": [
  {
   "cell_type": "markdown",
   "metadata": {},
   "source": [
    "# Temporal Order Classification Experiments Companion Notebook\n",
    "##### Sean-Jiun Wang - August 2, 2018\n",
    "\n",
    "---\n",
    "\n",
    "The second Computational and Data Science for High Energy Physics ([CODAS-HEP](http://codas-hep.org)) school was a welcome respite from my physics analysis. It was a tremendous opportunity to learn more about topics close to my heart, engage in fantastic conversations, and even reconnect with friends.\n",
    "\n",
    "During the school, Alfredo Canziani of New York University's Center for Data Science and Alexey Svyatkovskiy of Princeton University presented a series of machine learning lectures and demos. On the last day, their survey of deep learning concluded with an overview of recurrent neural networks (RNNs) and their applications towards problems dealing with sequence data. Their final [demo](https://github.com/Atcold/pytorch-Deep-Learning-Minicourse/blob/master/08-3-temporal_order_classification_experiments.ipynb) trained a simple RNN for sequence classification up to 96% accuracy. At the end of their session, they asked those interested to try and see if better performance could be achieved. I ended up with plenty of free time to do so after my flight home was cancelled by the weather and I found myself rebooked with a three-leg journey...\n",
    "\n",
    "After rerunning the demo many times, I have concluded that it is actually an \"exercise left to the reader\" in disguise. For instance, merely increasing the batch size of sequences from 32 to 64 increases the accuracy to a bizarre 192%! In the rest of this notebook, I'll walk through my version of the demo. I've tried my best to include extensive comments so that, whenever you spot pieces of code that are different from the original demo, you can understand the motivation behind my modifications. Obligatory spoiler warning for those trying to figure out the original demo. Ready? Let's get started!"
   ]
  },
  {
   "cell_type": "markdown",
   "metadata": {},
   "source": [
    "## 1. What's the data?\n",
    "\n",
    "Let's review the data we're working with, as it will help with understanding how different pieces should fit together later on. The sequence classification task is described in the docstring of the class used to generate data and comes from the original paper introducing long short-term memory (LSTM) networks."
   ]
  },
  {
   "cell_type": "code",
   "execution_count": 1,
   "metadata": {},
   "outputs": [
    {
     "data": {
      "text/plain": [
       "\u001b[0;31mClass docstring:\u001b[0m\n",
       "    From Hochreiter&Schmidhuber(1997):\n",
       "    \n",
       "        The goal is to classify sequences. Elements and targets are represented locally\n",
       "        (input vectors with only one non-zero bit). The sequence starts with an E, ends\n",
       "        with a B (the \"trigger symbol\") and otherwise consists of randomly chosen symbols\n",
       "        from the set {a, b, c, d} except for two elements at positions t1 and t2 that are\n",
       "        either X or Y . The sequence length is randomly chosen between 100 and 110, t1 is\n",
       "        randomly chosen between 10 and 20, and t2 is randomly chosen between 50 and 60.\n",
       "        There are 4 sequence classes Q, R, S, U which depend on the temporal order of X and Y.\n",
       "        The rules are:\n",
       "            X, X -> Q,\n",
       "            X, Y -> R,\n",
       "            Y , X -> S,\n",
       "            Y , Y -> U.\n",
       "\u001b[0;31mInit docstring:\u001b[0m\n",
       "    Initialize self.  See help(type(self)) for accurate signature."
      ]
     },
     "metadata": {},
     "output_type": "display_data"
    }
   ],
   "source": [
    "from sequential_tasks import TemporalOrderExp6aSequence\n",
    "%pdoc TemporalOrderExp6aSequence"
   ]
  },
  {
   "cell_type": "markdown",
   "metadata": {},
   "source": [
    "The problem statement described in the docstring corresponds to the `HARD` difficulty level of the sequence data generator. For now, let's stick with the original demo notebook's default difficulty setting of `EASY`, which poses the same classification task but with much shorter sequences:\n",
    "\n",
    "* The sequence length is randomly set to 7 or 8.\n",
    "* The first position $t_{1}$ is randomly set to 1 or 2.\n",
    "* The second position $t_{2}$ is randomly set to 4 or 5.\n",
    "\n",
    "I figured this out by peeking at the source code of the `sequential_tasks` module, but we should also generate some data to get a better feel for the inputs to our classifier."
   ]
  },
  {
   "cell_type": "code",
   "execution_count": 2,
   "metadata": {},
   "outputs": [
    {
     "name": "stdout",
     "output_type": "stream",
     "text": [
      "The return type is a <class 'tuple'> with length 2.\n",
      "The first item in the tuple is the batch of sequences with shape (32, 9, 8).\n",
      "The first element in the batch of sequences is:\n",
      " [[0 0 0 0 0 0 0 0]\n",
      " [0 0 0 0 0 0 1 0]\n",
      " [0 0 0 1 0 0 0 0]\n",
      " [1 0 0 0 0 0 0 0]\n",
      " [0 0 0 0 1 0 0 0]\n",
      " [1 0 0 0 0 0 0 0]\n",
      " [0 0 0 0 1 0 0 0]\n",
      " [0 0 0 1 0 0 0 0]\n",
      " [0 0 0 0 0 0 0 1]]\n",
      "The second item in the tuple is the corresponding batch of class labels with shape (32, 4).\n",
      "The first element in the batch of class labels is:\n",
      " [1. 0. 0. 0.]\n"
     ]
    }
   ],
   "source": [
    "# Create a data generator.\n",
    "example_generator = TemporalOrderExp6aSequence.get_predefined_generator(\n",
    "    # The first argument is the difficulty level of the classification task.\n",
    "    difficulty_level=TemporalOrderExp6aSequence.DifficultyLevel.EASY,\n",
    "    # The second argument is the number of sequences generated in each batch of data.\n",
    "    # For efficiency, RNN's are typically trained over batches of sequences.\n",
    "    batch_size=32,\n",
    ")\n",
    "\n",
    "example_batch = example_generator[0]\n",
    "print(f'The return type is a {type(example_batch)} with length {len(example_batch)}.')\n",
    "print(f'The first item in the tuple is the batch of sequences with shape {example_batch[0].shape}.')\n",
    "print(f'The first element in the batch of sequences is:\\n {example_batch[0][0, :, :]}')\n",
    "print(f'The second item in the tuple is the corresponding batch of class labels with shape {example_batch[1].shape}.')\n",
    "print(f'The first element in the batch of class labels is:\\n {example_batch[1][0, :]}')"
   ]
  },
  {
   "cell_type": "markdown",
   "metadata": {},
   "source": [
    "When a batch of data is requested, the data generator returns a tuple whose first item is the batch of sequences and the second item is the batch of corresponding class labels.\n",
    "\n",
    "For those not acquainted with machine learning, you may have expected to see letters rather than arrays of zeros and ones in the batch of sequences. While humans can learn from sequences of letters, that kind of representation of information isn't amenable to the vector and matrix operations underpinning machine learning algorithms. Therefore, before passing the sequences to the RNN as input, we *one-hot encode* the symbols in the sequence. As we have seen, the data generator class kindly takes care of this for us. The implementation of the one-hot encoding defines the following convention for our eight-symbol vocabulary:\n",
    "\n",
    "| Symbol | One-Hot Encoding                 |\n",
    "| :----: | :------------------------------: |\n",
    "| X      | [1., 0., 0., 0., 0., 0., 0., 0.] |\n",
    "| Y      | [0., 1., 0., 0., 0., 0., 0., 0.] |\n",
    "| a      | [0., 0., 1., 0., 0., 0., 0., 0.] |\n",
    "| b      | [0., 0., 0., 1., 0., 0., 0., 0.] |\n",
    "| c      | [0., 0., 0., 0., 1., 0., 0., 0.] |\n",
    "| d      | [0., 0., 0., 0., 0., 1., 0., 0.] |\n",
    "| B      | [0., 0., 0., 0., 0., 0., 1., 0.] |\n",
    "| E      | [0., 0., 0., 0., 0., 0., 0., 1.] |\n",
    "\n",
    "The array shape for a batch of sequences is $(n_{sequences}, l_{sequence}^{max}, n_{features}) = (32, 9, 8)$. The first dimension is the number of sequences per batch, which has been manually set to 32. The second dimension is the length of the longest sequence, which is set by the data generator to 9. Although the sequence length is allowed to vary for our classification task, we are passing *batches* of sequences to the RNN and so the sequences must be padded with zeros up to a maximum length for consistency. There is no need to worry about why the length of the longest sequence was set to 9 instead of 8, and we'll go over why that detail is moot later when we design the training loop. The last dimension is the number of features, which for us is set by the number of symbols in our vocabulary.\n",
    "\n",
    "Because this is a multiclass classification task and there are four classes, the class labels are one-hot encoded as well using the following convention:\n",
    "\n",
    "| Class     | One-Hot Encoding |\n",
    "| :-------: | :--------------: |\n",
    "| X, X -> Q | [1., 0., 0., 0.] |\n",
    "| X, Y -> R | [0., 1., 0., 0.] |\n",
    "| Y, X -> S | [0., 0., 1., 0.] |\n",
    "| Y, Y -> U | [0., 0., 0., 1.] |\n",
    "\n",
    "The array shape for a batch of class labels is $(n_{sequences}, n_{classes}) = (32, 4)$.\n",
    "\n",
    "Let's check our understanding by manually decoding the first sequence from the batch of sequences:\n",
    "\n",
    "| One-Hot Encoded   | Decoded      |\n",
    "| :---------------: | :----------: |\n",
    "| [0 0 0 0 0 0 0 0] | zero padding |\n",
    "| [0 0 0 0 0 0 1 0] | B            |\n",
    "| [0 0 0 1 0 0 0 0] | b            |\n",
    "| [1 0 0 0 0 0 0 0] | X            |\n",
    "| [0 0 0 0 1 0 0 0] | c            |\n",
    "| [1 0 0 0 0 0 0 0] | X            |\n",
    "| [0 0 0 0 1 0 0 0] | c            |\n",
    "| [0 0 0 1 0 0 0 0] | b            |\n",
    "| [0 0 0 0 0 0 0 1] | E            |\n",
    "\n",
    "The first sequence is \"BbXcXcbE\", ignoring the prepended zero that comes from padding the sequences. Since this sequence contains an X at both $t_{1}$ and $t_{2}$, the first sequence should have class label Q. And indeed, if we check the first class label from the batch of class labels, we see [1., 0., 0., 0.], which is the one-hot encoding for the class Q.\n",
    "\n",
    "From now on, we'll use the decoding methods of the data generator to avoid reinventing things."
   ]
  },
  {
   "cell_type": "code",
   "execution_count": 3,
   "metadata": {},
   "outputs": [
    {
     "name": "stdout",
     "output_type": "stream",
     "text": [
      "The sequence is: BbXcXcbE\n",
      "The class label is: Q\n"
     ]
    }
   ],
   "source": [
    "# Decoding the first sequence.\n",
    "sequence_decoded = example_generator.decode_x(example_batch[0][0, :, :])\n",
    "print(f'The sequence is: {sequence_decoded}')\n",
    "\n",
    "# Decoding the class label of the first sequence.\n",
    "class_label_decoded = example_generator.decode_y(example_batch[1][0])\n",
    "print(f'The class label is: {class_label_decoded}')"
   ]
  },
  {
   "cell_type": "markdown",
   "metadata": {},
   "source": [
    "## 2. Defining the RNN\n",
    "\n",
    "We'll be using PyTorch as the deep learning framework of choice to define and train an RNN. The RNN is more or less copied from the original demo notebook but with some modifications and annotations. The things I point out are what I found useful to know, but feel free to peruse the [documentation](https://pytorch.org/docs/0.4.0/) for PyTorch for more information. They also have really good [tutorials](https://pytorch.org/tutorials/index.html)."
   ]
  },
  {
   "cell_type": "code",
   "execution_count": 4,
   "metadata": {},
   "outputs": [],
   "source": [
    "import torch\n",
    "import torch.nn as nn\n",
    "import torch.nn.functional as F\n",
    "\n",
    "# Set the random seed for reproducible results.\n",
    "torch.manual_seed(1)\n",
    "\n",
    "\n",
    "class SimpleRNN(nn.Module):\n",
    "    \"\"\"A simple RNN module.\n",
    "    \n",
    "    In PyTorch, subclassing your model from torch.nn.Module\n",
    "    takes care of low-level concerns for you such as defining\n",
    "    the backward pass and keeping track of network parameters.\n",
    "    \n",
    "    Parameters\n",
    "    ----------\n",
    "    input_size : int\n",
    "        The number of features in the input tensor.\n",
    "    hidden_size : int\n",
    "        The number of features in the hidden state of the RNN.\n",
    "    output_size : int\n",
    "        The number of classes in the output tensor.\n",
    "    \"\"\"\n",
    "    def __init__(self, input_size, hidden_size, output_size):\n",
    "        # This just calls the base class constructor.\n",
    "        super().__init__()\n",
    "        # Neural network layers assigned as attributes of a Module subclass\n",
    "        # have their parameters registered for training automatically.\n",
    "        self.rnn = torch.nn.RNN(input_size, hidden_size, nonlinearity='relu', batch_first=True)\n",
    "        self.linear = torch.nn.Linear(hidden_size, output_size)\n",
    "\n",
    "    def forward(self, x):\n",
    "        \"\"\"The forward pass of the simple RNN.\n",
    "        \n",
    "        Subclasses of torch.nn.Module require the user to override\n",
    "        the forward method to define their computation steps.\n",
    "        \n",
    "        Parameters\n",
    "        ----------\n",
    "        x : torch.Tensor\n",
    "            The input tensor of shape (batch_size, max_sequence_length, input_size).\n",
    "\n",
    "        Returns\n",
    "        -------\n",
    "        out : torch.Tensor\n",
    "            The output tensor of shape (batch_size, max_sequence_length, output_size)\n",
    "        \"\"\"\n",
    "        # The RNN also returns its hidden state but we don't use it.\n",
    "        # While the RNN can also take a hidden state as input, the RNN\n",
    "        # gets passed a hidden state initialized with zeros by default.\n",
    "        x, _ = self.rnn(x)\n",
    "        x = self.linear(x)\n",
    "        out = F.log_softmax(x, dim=1)\n",
    "        return out"
   ]
  },
  {
   "cell_type": "markdown",
   "metadata": {},
   "source": [
    "## 3. Defining the Training Loop\n",
    "\n",
    "The training loop contained the majority of the bugs, so I'll be sure to point things out in the code below so you can compare to how things were done in the original demo notebook. I've also modified the training loop to return the loss and number of correct examples after each batch which can be used to visually monitor the results of the training."
   ]
  },
  {
   "cell_type": "code",
   "execution_count": 5,
   "metadata": {},
   "outputs": [],
   "source": [
    "def train(model, train_data_gen, criterion, optimizer, device):\n",
    "    \"\"\"Train a model to classify sequences for the temporal ordering problem.\n",
    "    \n",
    "    Parameters\n",
    "    ----------\n",
    "    model : torch.nn.Module\n",
    "        The model to train.\n",
    "    train_data_gen : TemporalOrderExp6aSequence\n",
    "        The data generator instance used to produce training data.\n",
    "    criterion : torch.nn.Module\n",
    "        The loss function.\n",
    "    optimizer : torch.optim.Optimizer\n",
    "        The optimization algorithm used to updated the network parameters.\n",
    "    device : torch.device\n",
    "        The device to which tensors will be moved.\n",
    "\n",
    "    Returns\n",
    "    -------\n",
    "    tuple\n",
    "        The number of correctly classified sequences and the loss, respectively.\n",
    "    \"\"\"\n",
    "    # Set the model to training mode. This will turn on layers that would\n",
    "    # otherwise behave differently during evaluation, such as dropout.\n",
    "    model.train()\n",
    "    \n",
    "    # Store the number of sequences that were classified correctly.\n",
    "    num_correct = 0\n",
    "    \n",
    "    # Iterate over every batch of sequences. Note that the length of a data generator\n",
    "    # is defined as the number of batches required to produce a total of roughly 1000\n",
    "    # sequences given a batch size.\n",
    "    for batch_idx in range(len(train_data_gen)):\n",
    "        # For each new batch, clear the gradient buffers of the optimized parameters.\n",
    "        # Otherwise, gradients from the previous batch would be accumulated.\n",
    "        optimizer.zero_grad()\n",
    "        \n",
    "        # Request a batch of sequences and class labels, convert them into tensors\n",
    "        # of the correct type, and then send them to the appropriate device.\n",
    "        data, target = train_data_gen[batch_idx]\n",
    "        data, target = torch.from_numpy(data).float().to(device), torch.from_numpy(target).long().to(device)\n",
    "        \n",
    "        # Perform the forward pass of the model.\n",
    "        output = model(data)\n",
    "        \n",
    "        # Although the sequences are padded to a specific length, we noted earlier that they\n",
    "        # actually have variable length. This point becomes relevant for interpreting the model's\n",
    "        # output. We are interested in the output of the model AFTER it has seen an entire sequence,\n",
    "        # which for our problem means just after the model encounters the stop token \"E\". But the\n",
    "        # model produces an output at each step of a sequence, which is why the shape of the output\n",
    "        # is (batch_size, max_sequence_length, output_size).\n",
    "        #\n",
    "        # We want to keep only those outputs which correspond to the end of a sequence. One approach\n",
    "        # is to decode the sequences and then store the length of each sequence in a tensor. We can\n",
    "        # then use this tensor for fancy indexing of the output, after subtracting 1 from it to\n",
    "        # account for tensor indices starting from 0. The first dimension of the output needs to be\n",
    "        # indexed using arange for the indexing to correctly pick out each batch. The final output\n",
    "        # will be of shape (batch_size, output_size).\n",
    "        data_decoded = train_data_gen.decode_x_batch(data.numpy())\n",
    "        sequence_end = torch.tensor([len(sequence) for sequence in data_decoded]) - 1\n",
    "        output = output[torch.arange(data.shape[0]).long(), sequence_end, :]\n",
    "\n",
    "        # Compute the value of the loss for this batch. For loss functions like CrossEntropyLoss,\n",
    "        # the second argument is actually expected to be a tensor of class indices rather than\n",
    "        # one-hot encoded class labels. One approach is to take advantage of the one-hot encoding\n",
    "        # of the target and call argmax along its second dimension to create a tensor of shape\n",
    "        # (batch_size) containing the index of the class label that was hot for each sequence.\n",
    "        target = target.argmax(dim=1)\n",
    "        loss = criterion(output, target)\n",
    "        \n",
    "        # Backpropagation through time in two lines!\n",
    "        loss.backward()\n",
    "        optimizer.step()\n",
    "        \n",
    "        # One way to find the number of correctly classified sequences for each batch is to call\n",
    "        # argmax along the second dimension of the output. This works because the output of the\n",
    "        # RNN is the set of log probabilities for that sequence to belong to one of the classes,\n",
    "        # so the result is a tensor of shape (batch_size) containing the class index with the\n",
    "        # highest log probability for each sequence. We can then check for element-wise equality\n",
    "        # between the predictions and the target and reduce the result to a scalar using sum.\n",
    "        y_pred = output.argmax(dim=1)\n",
    "        num_correct += (y_pred == target).sum().item()\n",
    "\n",
    "    return num_correct, loss.item()"
   ]
  },
  {
   "cell_type": "markdown",
   "metadata": {},
   "source": [
    "## 4. Defining the Testing Loop\n",
    "\n",
    "Some of the problems encountered in the training loop are also present in the testing loop. For the sake of clarity, I'll just point out things that are different from the training loop since the testing loop reuses much of the same code."
   ]
  },
  {
   "cell_type": "code",
   "execution_count": 6,
   "metadata": {},
   "outputs": [],
   "source": [
    "def test(model, test_data_gen, criterion, device):\n",
    "    \"\"\"Test a model's classification performance for the temporal ordering problem.\n",
    "    \n",
    "    Parameters\n",
    "    ----------\n",
    "    model : torch.nn.Module\n",
    "        The model to evaluate.\n",
    "    test_data_gen : TemporalOrderExp6aSequence\n",
    "        The data generator instance used to produce test data.\n",
    "    criterion : torch.nn.Module\n",
    "        The loss function.\n",
    "    device : torch.device\n",
    "        The device to which tensors will be moved.\n",
    "\n",
    "    Returns\n",
    "    -------\n",
    "    tuple\n",
    "        The number of correctly classified sequences and the loss, respectively.\n",
    "    \"\"\"\n",
    "    # Set the model to evaluation mode. This will turn off layers that would\n",
    "    # otherwise behave differently during training, such as dropout.\n",
    "    model.eval()\n",
    "    \n",
    "    # Store the number of sequences that were classified correctly.\n",
    "    num_correct = 0\n",
    "\n",
    "    # A context manager is used to disable gradient calculations during inference\n",
    "    # to reduce memory usage, as we typically don't need the gradients at this point.\n",
    "    with torch.no_grad():\n",
    "        for batch_idx in range(len(test_data_gen)):\n",
    "            data, target = test_data_gen[batch_idx]\n",
    "            data, target = torch.from_numpy(data).float().to(device), torch.from_numpy(target).long().to(device)\n",
    "            \n",
    "            output = model(data)\n",
    "            data_decoded = test_data_gen.decode_x_batch(data.numpy())\n",
    "            sequence_end = torch.tensor([len(sequence) for sequence in data_decoded]) - 1\n",
    "            output = output[torch.arange(data.shape[0]).long(), sequence_end, :]\n",
    "\n",
    "            target = target.argmax(dim=1)\n",
    "            loss = criterion(output, target)\n",
    "\n",
    "            y_pred = output.argmax(dim=1)\n",
    "            num_correct += (y_pred == target).sum().item()\n",
    "\n",
    "    return num_correct, loss.item()"
   ]
  },
  {
   "cell_type": "markdown",
   "metadata": {},
   "source": [
    "## 4. Putting it All Together\n",
    "\n",
    "Now that we have defined the training and testing loops, our simple RNN is ready for training! I've combined them into a single function below to streamline the training and evaluation. And because I like to see plots, as most physicists do, the function will also plot the loss and accuracy of the model over the course of training."
   ]
  },
  {
   "cell_type": "code",
   "execution_count": 7,
   "metadata": {},
   "outputs": [],
   "source": [
    "import matplotlib.pyplot as plt\n",
    "\n",
    "%matplotlib inline\n",
    "\n",
    "\n",
    "def train_and_test(model, train_data_gen, test_data_gen, criterion, optimizer, max_epochs, verbose=True):\n",
    "    \"\"\"Train a model and monitor its performance.\n",
    "    \n",
    "    Parameters\n",
    "    ----------\n",
    "    model : torch.nn.Module\n",
    "        The model to evaluate.\n",
    "    train_data_gen : TemporalOrderExp6aSequence\n",
    "        The data generator instance used to produce training data.\n",
    "    test_data_gen : TemporalOrderExp6aSequence\n",
    "        The data generator instance used to produce test data.\n",
    "    criterion : torch.nn.Module\n",
    "        The loss function.\n",
    "    optimizer : torch.optim.Optimizer\n",
    "        The optimization algorithm used to updated the network parameters.\n",
    "    max_epochs : int\n",
    "        The maximum number of times model iterates through all of the\n",
    "        training data during training.\n",
    "    verbose : bool, optional\n",
    "        Report the loss and accuracy over the training and test sets for\n",
    "        every epoch. The default is True.\n",
    "    \"\"\"\n",
    "    # Automatically determine the device that PyTorch should use for computation.\n",
    "    device = torch.device('cuda:0' if torch.cuda.is_available() else 'cpu')\n",
    "    \n",
    "    # Track the value of the loss function and model accuracy across epochs.\n",
    "    history_train = {'loss': [], 'acc': []}\n",
    "    history_test = {'loss': [], 'acc': []}\n",
    "    \n",
    "    for epoch in range(max_epochs):\n",
    "        # Run the training loop and calculate the accuracy.\n",
    "        # Remember that the length of a data generator is the number of batches,\n",
    "        # so we multiply it by the batch size to recover the total number of sequences.\n",
    "        num_correct, loss = train(model, train_data_gen, criterion, optimizer, device)\n",
    "        accuracy = float(num_correct) / (len(train_data_gen) * train_data_gen.batch_size) * 100\n",
    "        history_train['loss'].append(loss)\n",
    "        history_train['acc'].append(accuracy)\n",
    "        \n",
    "        # Do the same for the testing loop.\n",
    "        num_correct, loss = test(model, test_data_gen, criterion, device)\n",
    "        accuracy = float(num_correct) / (len(test_data_gen) * test_data_gen.batch_size) * 100\n",
    "        history_test['loss'].append(loss)\n",
    "        history_test['acc'].append(accuracy)\n",
    "\n",
    "        if verbose or epoch + 1 == max_epochs:\n",
    "            print(f'[Epoch {epoch + 1}/{max_epochs}]'\n",
    "                  f\" loss: {history_train['loss'][-1]:.4f}, acc: {history_train['acc'][-1]:2.2f}%\"\n",
    "                  f\" - test_loss: {history_test['loss'][-1]:.4f}, test_acc: {history_test['acc'][-1]:2.2f}%\")\n",
    "    \n",
    "    # Generate diagnostic plots for the loss and accuracy.\n",
    "    fig, axes = plt.subplots(ncols=2, figsize=(9, 4.5))\n",
    "    for ax, metric in zip(axes, ['loss', 'acc']):\n",
    "        ax.plot(history_train[metric])\n",
    "        ax.plot(history_test[metric])\n",
    "        ax.set_xlabel('epoch', fontsize=12)\n",
    "        ax.set_ylabel(metric, fontsize=12)\n",
    "        ax.legend(['Train', 'Test'], loc='best')\n",
    "    plt.show()\n",
    "\n",
    "    return model"
   ]
  },
  {
   "cell_type": "markdown",
   "metadata": {},
   "source": [
    "Let's try it out using the same experimental settings used by the original demo notebook."
   ]
  },
  {
   "cell_type": "code",
   "execution_count": 8,
   "metadata": {},
   "outputs": [
    {
     "name": "stdout",
     "output_type": "stream",
     "text": [
      "[Epoch 1/10] loss: 1.3729, acc: 27.22% - test_loss: 1.3747, test_acc: 31.65%\n",
      "[Epoch 2/10] loss: 1.3874, acc: 31.85% - test_loss: 1.3728, test_acc: 31.15%\n",
      "[Epoch 3/10] loss: 1.3548, acc: 33.87% - test_loss: 1.3570, test_acc: 35.28%\n",
      "[Epoch 4/10] loss: 1.3511, acc: 35.18% - test_loss: 1.3359, test_acc: 35.18%\n",
      "[Epoch 5/10] loss: 1.3241, acc: 35.48% - test_loss: 1.3780, test_acc: 35.89%\n",
      "[Epoch 6/10] loss: 1.3549, acc: 39.31% - test_loss: 1.3100, test_acc: 39.72%\n",
      "[Epoch 7/10] loss: 1.2783, acc: 38.41% - test_loss: 1.2807, test_acc: 41.13%\n",
      "[Epoch 8/10] loss: 1.1884, acc: 42.84% - test_loss: 1.2319, test_acc: 49.09%\n",
      "[Epoch 9/10] loss: 1.2123, acc: 53.43% - test_loss: 1.1182, test_acc: 56.75%\n",
      "[Epoch 10/10] loss: 1.1269, acc: 59.58% - test_loss: 1.0940, test_acc: 58.57%\n"
     ]
    },
    {
     "data": {
      "image/png": "[encoded data removed]",
      "text/plain": [
       "<matplotlib.figure.Figure at 0x10a8c6908>"
      ]
     },
     "metadata": {},
     "output_type": "display_data"
    }
   ],
   "source": [
    "# Setup the training and test data generators.\n",
    "difficulty     = TemporalOrderExp6aSequence.DifficultyLevel.EASY\n",
    "batch_size     = 32\n",
    "train_data_gen = TemporalOrderExp6aSequence.get_predefined_generator(difficulty, batch_size)\n",
    "test_data_gen  = TemporalOrderExp6aSequence.get_predefined_generator(difficulty, batch_size)\n",
    "\n",
    "# Setup the RNN and training settings.\n",
    "input_size  = train_data_gen.n_symbols\n",
    "hidden_size = 4\n",
    "output_size = train_data_gen.n_classes\n",
    "model       = SimpleRNN(input_size, hidden_size, output_size)\n",
    "criterion   = torch.nn.CrossEntropyLoss()\n",
    "optimizer   = torch.optim.RMSprop(model.parameters(), lr=0.001)\n",
    "max_epochs  = 10\n",
    "\n",
    "# Train the model.\n",
    "model = train_and_test(model, train_data_gen, test_data_gen, criterion, optimizer, max_epochs)"
   ]
  },
  {
   "cell_type": "markdown",
   "metadata": {},
   "source": [
    "Awesome, we see that our simple RNN is actually learning! There are a few encouraging signs that the demo is working correctly now:\n",
    "\n",
    "* The accuracy of our model on the training set after the first epoch isn't too far from 25%. This intuitively fits the expectation that, because there are four classes, a model which randomly guesses or hasn't learned anything yet will have an accuracy of 25%.\n",
    "* The training and test loss are both decreasing over time.\n",
    "* The training and test accuracy are both increasing over time.\n",
    "\n",
    "But is the accuracy actually calculated correctly? Remember that, in the original demo, increasing the batch size led to ludicrous values. Let's check by doubling the batch size to 64."
   ]
  },
  {
   "cell_type": "code",
   "execution_count": 9,
   "metadata": {},
   "outputs": [
    {
     "name": "stdout",
     "output_type": "stream",
     "text": [
      "[Epoch 1/10] loss: 1.3749, acc: 29.58% - test_loss: 1.4008, test_acc: 29.79%\n",
      "[Epoch 2/10] loss: 1.3729, acc: 32.19% - test_loss: 1.3584, test_acc: 29.17%\n",
      "[Epoch 3/10] loss: 1.3827, acc: 28.44% - test_loss: 1.3615, test_acc: 29.69%\n",
      "[Epoch 4/10] loss: 1.3731, acc: 31.25% - test_loss: 1.3570, test_acc: 30.63%\n",
      "[Epoch 5/10] loss: 1.3808, acc: 31.15% - test_loss: 1.3615, test_acc: 31.56%\n",
      "[Epoch 6/10] loss: 1.3865, acc: 31.15% - test_loss: 1.3475, test_acc: 34.06%\n",
      "[Epoch 7/10] loss: 1.3701, acc: 31.46% - test_loss: 1.3314, test_acc: 33.12%\n",
      "[Epoch 8/10] loss: 1.3556, acc: 34.17% - test_loss: 1.3423, test_acc: 34.27%\n",
      "[Epoch 9/10] loss: 1.3344, acc: 34.90% - test_loss: 1.3322, test_acc: 33.23%\n",
      "[Epoch 10/10] loss: 1.3257, acc: 33.54% - test_loss: 1.3574, test_acc: 36.25%\n"
     ]
    },
    {
     "data": {
      "image/png": "[encoded data removed]",
      "text/plain": [
       "<matplotlib.figure.Figure at 0x10a6706d8>"
      ]
     },
     "metadata": {},
     "output_type": "display_data"
    }
   ],
   "source": [
    "# Setup the training and test data generators.\n",
    "difficulty     = TemporalOrderExp6aSequence.DifficultyLevel.EASY\n",
    "batch_size     = 64\n",
    "train_data_gen = TemporalOrderExp6aSequence.get_predefined_generator(difficulty, batch_size)\n",
    "test_data_gen  = TemporalOrderExp6aSequence.get_predefined_generator(difficulty, batch_size)\n",
    "\n",
    "# Setup the RNN and training settings.\n",
    "input_size  = train_data_gen.n_symbols\n",
    "hidden_size = 4\n",
    "output_size = train_data_gen.n_classes\n",
    "model       = SimpleRNN(input_size, hidden_size, output_size)\n",
    "criterion   = torch.nn.CrossEntropyLoss()\n",
    "optimizer   = torch.optim.RMSprop(model.parameters(), lr=0.001)\n",
    "max_epochs  = 10\n",
    "\n",
    "# Train the model.\n",
    "model = train_and_test(model, train_data_gen, test_data_gen, criterion, optimizer, max_epochs)"
   ]
  },
  {
   "cell_type": "markdown",
   "metadata": {},
   "source": [
    "The accuracy didn't explode! But why did increasing the batch size decrease the accuracy? I think this comes from the implicit restriction on the total number of sequences. Because we train on a set number of sequences, doubling the batch size necessarily halves the total number of batches. So even though using a larger batch size produces better gradient estimates for updating the model parameters, there are half as many parameter updates happening as before. It also damps out the stochastic noise that comes with using smaller batch sizes, which offers a form of regularization."
   ]
  },
  {
   "cell_type": "markdown",
   "metadata": {},
   "source": [
    "## 5. Room for Improvement?\n",
    "\n",
    "Our baseline model, defined and trained using the settings from the original demo, ends up with 58.57% test accuracy. But judging from the plots, one of the first things to try is to simply increase the number of epochs to get an idea of the model's learning capacity. Let's keep all of the settings from the baseline model and just increase the number of epochs to some ridiculous amount like 1000."
   ]
  },
  {
   "cell_type": "code",
   "execution_count": 10,
   "metadata": {},
   "outputs": [
    {
     "name": "stdout",
     "output_type": "stream",
     "text": [
      "[Epoch 1000/1000] loss: 0.0000, acc: 100.00% - test_loss: 0.0000, test_acc: 100.00%\n"
     ]
    },
    {
     "data": {
      "image/png": "[encoded data removed]",
      "text/plain": [
       "<matplotlib.figure.Figure at 0x1227f5898>"
      ]
     },
     "metadata": {},
     "output_type": "display_data"
    }
   ],
   "source": [
    "# Setup the training and test data generators.\n",
    "difficulty     = TemporalOrderExp6aSequence.DifficultyLevel.EASY\n",
    "batch_size     = 32\n",
    "train_data_gen = TemporalOrderExp6aSequence.get_predefined_generator(difficulty, batch_size)\n",
    "test_data_gen  = TemporalOrderExp6aSequence.get_predefined_generator(difficulty, batch_size)\n",
    "\n",
    "# Setup the RNN and training settings.\n",
    "input_size  = train_data_gen.n_symbols\n",
    "hidden_size = 4\n",
    "output_size = train_data_gen.n_classes\n",
    "model       = SimpleRNN(input_size, hidden_size, output_size)\n",
    "criterion   = torch.nn.CrossEntropyLoss()\n",
    "optimizer   = torch.optim.RMSprop(model.parameters(), lr=0.001)\n",
    "max_epochs  = 1000\n",
    "\n",
    "# Train the model.\n",
    "model = train_and_test(model, train_data_gen, test_data_gen, criterion, optimizer, max_epochs, verbose=False)"
   ]
  },
  {
   "cell_type": "markdown",
   "metadata": {},
   "source": [
    "It looks like the baseline model, once trained to convergence,  has the capacity to achieve perfect accuracy on the training and test sets. But we are not easily convinced, so we evaluate the model on a new batch of sequences. The next cell defines a function that will evaluate a model over a set of sequences and report back useful information such as the number of sequences generated for each class and actually print out some sequences for us to look at."
   ]
  },
  {
   "cell_type": "code",
   "execution_count": 11,
   "metadata": {},
   "outputs": [],
   "source": [
    "import collections\n",
    "import random\n",
    "\n",
    "\n",
    "def evaluate_model(model, difficulty, seed=9001, verbose=False):\n",
    "    \"\"\"Evaluate and report on the performance of the model.\n",
    "    \n",
    "    Parameters\n",
    "    ----------\n",
    "    model : torch.nn.Module\n",
    "        The model to test.\n",
    "    difficulty : int\n",
    "        The difficulty level of the test sequences.\n",
    "    seed : int, optional\n",
    "        The random seed for the test sequence generator.\n",
    "        The default is 9001.\n",
    "    verbose : bool, optional\n",
    "        Report every misclassified sequence. The default is False.\n",
    "    \"\"\"\n",
    "    # Define a dictionary that maps class indices to labels.\n",
    "    class_idx_to_label = {0: 'Q', 1: 'R', 2: 'S', 3: 'U'}\n",
    "\n",
    "    # Create a new data generator.\n",
    "    data_generator = TemporalOrderExp6aSequence.get_predefined_generator(difficulty, seed=seed)\n",
    "\n",
    "    # Track the number of times a class appears.\n",
    "    count_classes = collections.Counter()\n",
    "\n",
    "    # Keep correctly classified and misclassified sequences, and their\n",
    "    # true and predicted class labels, for diagnostic information.\n",
    "    correct = []\n",
    "    incorrect = []\n",
    "\n",
    "    device = torch.device('cuda:0' if torch.cuda.is_available() else 'cpu')\n",
    "\n",
    "    model.eval()\n",
    "\n",
    "    with torch.no_grad():\n",
    "        for batch_idx in range(len(data_generator)):\n",
    "            data, target = test_data_gen[batch_idx]\n",
    "            data, target = torch.from_numpy(data).float().to(device), torch.from_numpy(target).long().to(device)\n",
    "\n",
    "            data_decoded = data_generator.decode_x_batch(data.numpy())\n",
    "            target_decoded = data_generator.decode_y_batch(target.numpy())\n",
    "\n",
    "            output = model(data)\n",
    "            sequence_end = torch.tensor([len(sequence) for sequence in data_decoded]) - 1\n",
    "            output = output[torch.arange(data.shape[0]).long(), sequence_end, :]\n",
    "\n",
    "            target = target.argmax(dim=1)\n",
    "            y_pred = output.argmax(dim=1)\n",
    "            y_pred_decoded = [class_idx_to_label[y.item()] for y in y_pred]\n",
    "\n",
    "            count_classes.update(target_decoded)\n",
    "            for i, (truth, prediction) in enumerate(zip(target_decoded, y_pred_decoded)):\n",
    "                if truth == prediction:\n",
    "                    correct.append((data_decoded[i], truth, prediction))\n",
    "                else:\n",
    "                    incorrect.append((data_decoded[i], truth, prediction))\n",
    "    \n",
    "    num_sequences = sum(count_classes.values())\n",
    "    accuracy = float(len(correct)) / num_sequences * 100 \n",
    "    print(f'The accuracy of the model is measured to be {accuracy:.2f}%.\\n')\n",
    "\n",
    "    # Report the accuracy by class.\n",
    "    for label in sorted(count_classes):\n",
    "        num_correct = sum(1 for _, truth, _ in correct if truth == label)\n",
    "        print(f'{label}: {num_correct} / {count_classes[label]} correct')\n",
    "    \n",
    "    # Report some random sequences for examination.\n",
    "    print('\\nHere are some example sequences:')\n",
    "    for i in range(10):\n",
    "        sequence, truth, prediction = correct[random.randrange(0, 10)] \n",
    "        print(f'{sequence} -> {truth} was labelled {prediction}')\n",
    "\n",
    "    # Report misclassified sequences for investigation.\n",
    "    if incorrect and verbose:\n",
    "        print('\\nThe following sequences were misclassified:')\n",
    "        for sequence, truth, prediction in incorrect:\n",
    "            print(f'{sequence} -> {truth} was labelled {prediction}')\n",
    "    else:\n",
    "        print('\\nThere were no misclassified sequences.')"
   ]
  },
  {
   "cell_type": "markdown",
   "metadata": {},
   "source": [
    "And how does the model do?"
   ]
  },
  {
   "cell_type": "code",
   "execution_count": 12,
   "metadata": {},
   "outputs": [
    {
     "name": "stdout",
     "output_type": "stream",
     "text": [
      "The accuracy of the model is measured to be 100.00%.\n",
      "\n",
      "Q: 258 / 258 correct\n",
      "R: 249 / 249 correct\n",
      "S: 232 / 232 correct\n",
      "U: 253 / 253 correct\n",
      "\n",
      "Here are some example sequences:\n",
      "BbXcXbcE -> Q was labelled Q\n",
      "BdYdXbbE -> S was labelled S\n",
      "BbXcXbcE -> Q was labelled Q\n",
      "BcYdYdaE -> U was labelled U\n",
      "BcYacYbE -> U was labelled U\n",
      "BYdcaYbE -> U was labelled U\n",
      "BYdcaYbE -> U was labelled U\n",
      "BYbdYabE -> U was labelled U\n",
      "BdYdXbbE -> S was labelled S\n",
      "BYbdYabE -> U was labelled U\n",
      "\n",
      "There were no misclassified sequences.\n"
     ]
    }
   ],
   "source": [
    "evaluate_model(model, difficulty)"
   ]
  },
  {
   "cell_type": "markdown",
   "metadata": {},
   "source": [
    "I think we can concede that the simple model has solved the classification problem. Feel free to rerun the cell above to check different random samples of example sequences."
   ]
  },
  {
   "cell_type": "markdown",
   "metadata": {},
   "source": [
    "## 6. Where to go from here?\n",
    "\n",
    "Solving a simplified version of a toy problem from a seminal deep learning paper is a good first step for debugging our code and understanding. From here, you can test your intuitions by turning up the difficulty level. Maybe you'll have to fiddle with the hyperparameters? Switch to an LSTM altogether? But this will only entertain you for so long while the problems that affect our lives and engage our curiosity are waiting for us to solve them. And those I leave as exercises to the reader."
   ]
  }
 ],
 "metadata": {
  "kernelspec": {
   "display_name": "Codas ML",
   "language": "python",
   "name": "codas-ml"
  },
  "language_info": {
   "codemirror_mode": {
    "name": "ipython",
    "version": 3
   },
   "file_extension": ".py",
   "mimetype": "text/x-python",
   "name": "python",
   "nbconvert_exporter": "python",
   "pygments_lexer": "ipython3",
   "version": "3.6.5"
  }
 },
 "nbformat": 4,
 "nbformat_minor": 2
}
