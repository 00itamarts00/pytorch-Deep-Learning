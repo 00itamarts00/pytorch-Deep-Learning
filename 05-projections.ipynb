{
 "cells": [
  {
   "cell_type": "code",
   "execution_count": null,
   "metadata": {},
   "outputs": [],
   "source": [
    "import random\n",
    "import torch\n",
    "%run plot_conf.py"
   ]
  },
  {
   "cell_type": "code",
   "execution_count": null,
   "metadata": {},
   "outputs": [],
   "source": [
    "plt_style()"
   ]
  },
  {
   "cell_type": "code",
   "execution_count": null,
   "metadata": {},
   "outputs": [],
   "source": [
    "A = torch.nn.functional.normalize(torch.randn(5, 3), 2, 1)"
   ]
  },
  {
   "cell_type": "code",
   "execution_count": null,
   "metadata": {},
   "outputs": [],
   "source": [
    "A"
   ]
  },
  {
   "cell_type": "code",
   "execution_count": null,
   "metadata": {},
   "outputs": [],
   "source": [
    "A.norm(2, 1)"
   ]
  },
  {
   "cell_type": "code",
   "execution_count": null,
   "metadata": {},
   "outputs": [],
   "source": [
    "def show_mat(mat, vect, prod, threshold=-1):\n",
    "    # Subplot grid definition\n",
    "    fig, (ax1, ax2, ax3) = plt.subplots(1, 3, sharex=False, sharey=True,\n",
    "                                        gridspec_kw={'width_ratios':[5,1,1]})\n",
    "    # Plot matrices\n",
    "    cax1 = ax1.matshow(mat.numpy(), clim=(-1, 1))\n",
    "    ax2.matshow(vect.numpy(), clim=(-1, 1))\n",
    "    cax3 = ax3.matshow(prod.numpy(), clim=(threshold, 1))\n",
    "\n",
    "    # Set titles\n",
    "    ax1.set_title(f'A: {mat.size(0)} \\u00D7 {mat.size(1)}')\n",
    "    ax2.set_title(f'a^(i): {vect.numel()}')\n",
    "    ax3.set_title(f'p: {prod.numel()}')\n",
    "    \n",
    "    # Plot colourbars\n",
    "    plt.colorbar(cax1, ax=ax2)\n",
    "    plt.colorbar(cax3, ax=ax3)\n",
    "    \n",
    "    # Fix y-axis limits\n",
    "    plt.ylim(ymin=max(len(prod), len(vect)) - 0.5)"
   ]
  },
  {
   "cell_type": "code",
   "execution_count": null,
   "metadata": {},
   "outputs": [],
   "source": [
    "# A = torch.nn.functional.normalize(torch.randn(10, 3), 2, 1)\n",
    "a = A[[random.randrange(10)],:].t()\n",
    "p = A @ a\n",
    "# p = torch.abs(A @ a)\n",
    "show_mat(A, a, p, 0.8)"
   ]
  },
  {
   "cell_type": "code",
   "execution_count": null,
   "metadata": {},
   "outputs": [],
   "source": [
    "bins = 101\n",
    "N = 1000\n",
    "d_range = range(2, 20)\n",
    "for d in d_range:\n",
    "    A = torch.nn.functional.normalize(torch.randn(N, d), 2, 1)\n",
    "    B = torch.nn.functional.normalize(torch.randn(N, d), 2, 1)\n",
    "    h = torch.histc((A @ B.t()).view(-1), bins, -1, 1)\n",
    "    plt.plot(torch.linspace(-1, 1, bins).numpy(), h.numpy())\n",
    "plt.legend([f'{d}D' for d in d_range], ncol=6)"
   ]
  },
  {
   "cell_type": "code",
   "execution_count": null,
   "metadata": {},
   "outputs": [],
   "source": []
  }
 ],
 "metadata": {
  "kernelspec": {
   "display_name": "Codas ML",
   "language": "python",
   "name": "codasml"
  },
  "language_info": {
   "codemirror_mode": {
    "name": "ipython",
    "version": 3
   },
   "file_extension": ".py",
   "mimetype": "text/x-python",
   "name": "python",
   "nbconvert_exporter": "python",
   "pygments_lexer": "ipython3",
   "version": "3.6.5"
  }
 },
 "nbformat": 4,
 "nbformat_minor": 2
}
