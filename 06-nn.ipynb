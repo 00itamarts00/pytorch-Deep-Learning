{
 "cells": [
  {
   "cell_type": "markdown",
   "metadata": {},
   "source": [
    "# `nn` torch module"
   ]
  },
  {
   "cell_type": "code",
   "execution_count": null,
   "metadata": {},
   "outputs": [],
   "source": [
    "import torch\n",
    "from torch.autograd import Variable\n",
    "from torch import nn\n",
    "from torch.nn import Parameter\n",
    "import torch.nn.functional as F"
   ]
  },
  {
   "cell_type": "code",
   "execution_count": null,
   "metadata": {},
   "outputs": [],
   "source": [
    "# What is a 'Parameter'?\n",
    "Parameter??"
   ]
  },
  {
   "cell_type": "code",
   "execution_count": null,
   "metadata": {},
   "outputs": [],
   "source": [
    "# What about a 'nn.Linear'?\n",
    "nn.Linear??"
   ]
  },
  {
   "cell_type": "code",
   "execution_count": null,
   "metadata": {},
   "outputs": [],
   "source": [
    "# And 'F.linear'?\n",
    "F.linear??"
   ]
  },
  {
   "cell_type": "code",
   "execution_count": null,
   "metadata": {},
   "outputs": [],
   "source": [
    "! pip install git+https://github.com/szagoruyko/pytorchviz\n",
    "! brew install graphviz  # or ! sudo apt-get install graphviz"
   ]
  },
  {
   "cell_type": "code",
   "execution_count": null,
   "metadata": {},
   "outputs": [],
   "source": [
    "! which pip"
   ]
  },
  {
   "cell_type": "code",
   "execution_count": null,
   "metadata": {},
   "outputs": [],
   "source": [
    "from collections import OrderedDict\n",
    "from torchviz import make_dot, make_dot_from_trace"
   ]
  },
  {
   "cell_type": "code",
   "execution_count": null,
   "metadata": {},
   "outputs": [],
   "source": [
    "# Building a sequential net\n",
    "model1 = nn.Sequential(OrderedDict([\n",
    "    ('affine_1', nn.Linear(8, 16)),\n",
    "    ('tanh', nn.Tanh()),\n",
    "    ('affine_2', nn.Linear(16, 1)),\n",
    "]))\n",
    "\n",
    "x = torch.randn(1,8)\n",
    "y1 = model1(x)\n",
    "\n",
    "make_dot(y1.mean(), params=dict(model1.named_parameters()))"
   ]
  },
  {
   "cell_type": "code",
   "execution_count": null,
   "metadata": {},
   "outputs": [],
   "source": [
    "# Building a custom sequential net\n",
    "class Model2(nn.Module):\n",
    "    def __init__(self, n, d, K):\n",
    "        super().__init__()\n",
    "        self.affine_1 = nn.Linear(n, d)\n",
    "        self.affine_2 = nn.Linear(d, K)\n",
    "        \n",
    "    def forward(self, x):\n",
    "        input_ = x # hidden :p\n",
    "        x = self.affine_1(x)\n",
    "        x = F.tanh(x)\n",
    "        x = self.affine_2(x)\n",
    "        x += torch.mean(self.affine_1.weight) # hidden :p\n",
    "        return x\n",
    "\n",
    "model2 = Model2(8, 16, 1)"
   ]
  },
  {
   "cell_type": "code",
   "execution_count": null,
   "metadata": {},
   "outputs": [],
   "source": [
    "# x = torch.randn(1,8)\n",
    "x = torch.randn(1,8, requires_grad=True)\n",
    "y2 = model2(x)\n",
    "\n",
    "# make_dot(y2.mean(), params=dict(model2.named_parameters()))\n",
    "make_dot(y2.mean(), params=dict(list(model2.named_parameters()) + [('x', x)]))"
   ]
  },
  {
   "cell_type": "code",
   "execution_count": null,
   "metadata": {},
   "outputs": [],
   "source": []
  }
 ],
 "metadata": {
  "kernelspec": {
   "display_name": "Codas ML",
   "language": "python",
   "name": "codasml"
  },
  "language_info": {
   "codemirror_mode": {
    "name": "ipython",
    "version": 3
   },
   "file_extension": ".py",
   "mimetype": "text/x-python",
   "name": "python",
   "nbconvert_exporter": "python",
   "pygments_lexer": "ipython3",
   "version": "3.6.5"
  }
 },
 "nbformat": 4,
 "nbformat_minor": 2
}
