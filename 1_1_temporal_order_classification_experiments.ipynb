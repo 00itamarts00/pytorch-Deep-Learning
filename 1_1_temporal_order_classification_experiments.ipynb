{
 "cells": [
  {
   "cell_type": "code",
   "execution_count": 37,
   "metadata": {},
   "outputs": [
    {
     "data": {
      "text/plain": [
       "<torch._C.Generator at 0x115389c90>"
      ]
     },
     "execution_count": 37,
     "metadata": {},
     "output_type": "execute_result"
    }
   ],
   "source": [
    "from sequential_tasks import TemporalOrderExp6aSequence\n",
    "\n",
    "import torch\n",
    "import torch.nn as nn\n",
    "import torch.nn.functional as F\n",
    "import torch.optim as optim\n",
    "\n",
    "torch.manual_seed(1)"
   ]
  },
  {
   "cell_type": "code",
   "execution_count": 38,
   "metadata": {},
   "outputs": [],
   "source": [
    "class SimpleRNN(nn.Module):\n",
    "\n",
    "    def __init__(self, input_size, rnn_hidden_size, output_size):\n",
    "\n",
    "        super(SimpleRNN, self).__init__()\n",
    "        self.rnn = torch.nn.RNN(input_size, rnn_hidden_size, num_layers=1, nonlinearity='relu', batch_first=True)\n",
    "        self.linear = torch.nn.Linear(rnn_hidden_size, output_size) \n",
    "\n",
    "    def forward(self, x):\n",
    "        out, _ = self.rnn(x)\n",
    "        out = self.linear(out)\n",
    "        return F.log_softmax(out, dim=1)"
   ]
  },
  {
   "cell_type": "code",
   "execution_count": 39,
   "metadata": {},
   "outputs": [],
   "source": [
    "def exp6a_experiment(settings):\n",
    "    train_data_gen = TemporalOrderExp6aSequence.get_predefined_generator(\n",
    "        settings['difficulty'],\n",
    "        settings['batch_size'])\n",
    "\n",
    "    train_size = len(train_data_gen)\n",
    "    model = SimpleRNN(train_data_gen.n_symbols, settings['h_units'], train_data_gen.n_classes)\n",
    "\n",
    "    criterion = torch.nn.CrossEntropyLoss()\n",
    "    optimizer = torch.optim.RMSprop(model.parameters(), lr=0.001)\n",
    "\n",
    "    epochs = settings['max_epochs']\n",
    "\n",
    "    epoch = 0\n",
    "    while epoch < epochs:\n",
    "        \n",
    "        correct = 0\n",
    "        for batch_idx in range(train_size):\n",
    "            xs, ys = train_data_gen[batch_idx]\n",
    "            xs, ys = torch.from_numpy(xs).float(), torch.from_numpy(ys).long()\n",
    "\n",
    "            y_pred = model(xs)\n",
    "            loss = criterion(y_pred, ys)\n",
    "            optimizer.zero_grad()\n",
    "            loss.backward()\n",
    "            optimizer.step()\n",
    "            \n",
    "            pred = y_pred.max(1, keepdim=True)[1]\n",
    "            correct += pred.eq(ys.view_as(pred)).sum().item()\n",
    "\n",
    "        epoch += 1\n",
    "        train_accuracy = float(correct) / train_size\n",
    "        print('Train Epoch: {}/{}, loss: {:.4f}, accuracy {:2.2f}'.format(epoch, epochs, loss.item(), train_accuracy))\n",
    "    \n",
    "    # testing\n",
    "    test_data_gen = TemporalOrderExp6aSequence.get_predefined_generator(\n",
    "        settings['difficulty'],\n",
    "        settings['batch_size'])\n",
    "    test_size = len(test_data_gen)\n",
    "\n",
    "    correct = 0\n",
    "    with torch.no_grad():\n",
    "        for batch_idx in range(test_size):\n",
    "            xs, ys = test_data_gen[batch_idx]\n",
    "            xs, ys = torch.from_numpy(xs).float(), torch.from_numpy(ys).long()\n",
    "            y_pred = model(xs)\n",
    "            pred = y_pred.max(1, keepdim=True)[1]\n",
    "            correct += pred.eq(ys.view_as(pred)).sum().item()\n",
    "\n",
    "    test_accuracy = float(correct) / test_size\n",
    "    print('\\nTest accuracy: {}'.format(test_accuracy))\n",
    "    \n",
    "    return test_accuracy"
   ]
  },
  {
   "cell_type": "code",
   "execution_count": 40,
   "metadata": {},
   "outputs": [
    {
     "name": "stdout",
     "output_type": "stream",
     "text": [
      "Train Epoch: 1/30, loss: 2.1147, accuracy 27.90\n",
      "Train Epoch: 2/30, loss: 1.9919, accuracy 53.71\n",
      "Train Epoch: 3/30, loss: 1.7164, accuracy 72.97\n",
      "Train Epoch: 4/30, loss: 1.2584, accuracy 94.13\n",
      "Train Epoch: 5/30, loss: 0.9046, accuracy 96.00\n",
      "Train Epoch: 6/30, loss: 0.7676, accuracy 96.00\n",
      "Train Epoch: 7/30, loss: 0.6871, accuracy 96.00\n",
      "Train Epoch: 8/30, loss: 0.6495, accuracy 96.00\n",
      "Train Epoch: 9/30, loss: 0.6394, accuracy 96.00\n",
      "Train Epoch: 10/30, loss: 0.6372, accuracy 96.00\n",
      "Train Epoch: 11/30, loss: 0.6069, accuracy 96.00\n",
      "Train Epoch: 12/30, loss: 0.6126, accuracy 96.00\n",
      "Train Epoch: 13/30, loss: 0.5870, accuracy 96.00\n",
      "Train Epoch: 14/30, loss: 0.5999, accuracy 96.00\n",
      "Train Epoch: 15/30, loss: 0.5698, accuracy 96.00\n",
      "Train Epoch: 16/30, loss: 0.5882, accuracy 96.00\n",
      "Train Epoch: 17/30, loss: 0.5850, accuracy 96.00\n",
      "Train Epoch: 18/30, loss: 0.5813, accuracy 96.00\n",
      "Train Epoch: 19/30, loss: 0.5703, accuracy 96.00\n",
      "Train Epoch: 20/30, loss: 0.5754, accuracy 96.00\n",
      "Train Epoch: 21/30, loss: 0.5680, accuracy 96.00\n",
      "Train Epoch: 22/30, loss: 0.5765, accuracy 96.00\n",
      "Train Epoch: 23/30, loss: 0.5669, accuracy 96.00\n",
      "Train Epoch: 24/30, loss: 0.5735, accuracy 96.00\n",
      "Train Epoch: 25/30, loss: 0.5679, accuracy 96.00\n",
      "Train Epoch: 26/30, loss: 0.5675, accuracy 96.00\n",
      "Train Epoch: 27/30, loss: 0.5675, accuracy 96.00\n",
      "Train Epoch: 28/30, loss: 0.5669, accuracy 96.00\n",
      "Train Epoch: 29/30, loss: 0.5666, accuracy 96.00\n",
      "Train Epoch: 30/30, loss: 0.5648, accuracy 96.00\n",
      "\n",
      "Test accuracy: 96.0\n"
     ]
    }
   ],
   "source": [
    "# experiments settings\n",
    "params = {\n",
    "    \"difficulty\": TemporalOrderExp6aSequence.DifficultyLevel.EASY,\n",
    "    \"batch_size\": 32,\n",
    "    \"h_units\": 4,\n",
    "    \"max_epochs\": 30\n",
    "}\n",
    "\n",
    "acc = exp6a_experiment(params)"
   ]
  },
  {
   "cell_type": "code",
   "execution_count": 41,
   "metadata": {},
   "outputs": [
    {
     "name": "stdout",
     "output_type": "stream",
     "text": [
      "acc = 96.00%.\n"
     ]
    }
   ],
   "source": [
    "print('acc = {:.2f}%.'.format(acc))"
   ]
  },
  {
   "cell_type": "code",
   "execution_count": null,
   "metadata": {},
   "outputs": [],
   "source": []
  },
  {
   "cell_type": "code",
   "execution_count": null,
   "metadata": {},
   "outputs": [],
   "source": []
  }
 ],
 "metadata": {
  "kernelspec": {
   "display_name": "Codas ML",
   "language": "python",
   "name": "codasml"
  },
  "language_info": {
   "codemirror_mode": {
    "name": "ipython",
    "version": 3
   },
   "file_extension": ".py",
   "mimetype": "text/x-python",
   "name": "python",
   "nbconvert_exporter": "python",
   "pygments_lexer": "ipython3",
   "version": "3.6.5"
  }
 },
 "nbformat": 4,
 "nbformat_minor": 1
}
