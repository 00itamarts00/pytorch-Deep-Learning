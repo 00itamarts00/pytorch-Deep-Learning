{
 "cells": [
  {
   "cell_type": "code",
   "execution_count": null,
   "metadata": {},
   "outputs": [],
   "source": [
    "import torch\n",
    "import torch.nn as nn\n",
    "import torch.nn.functional as F\n",
    "from torch.autograd import Variable\n",
    "import torch.optim as optim\n",
    "import matplotlib.pyplot as plt\n",
    "%run ~/Dropbox/NYU/Work/plot_conf.py"
   ]
  },
  {
   "cell_type": "code",
   "execution_count": null,
   "metadata": {},
   "outputs": [],
   "source": [
    "plt_style()"
   ]
  },
  {
   "cell_type": "markdown",
   "metadata": {},
   "source": [
    "# Here we will:\n",
    "* Construct a model $f(x)$ with parameters $\\theta$\n",
    "* Train it to learn a simple function $y = x^2$ by gradient descent\n",
    "* We do this by minimizing a loss function $\\mathcal{L}(\\theta) = \\|x_i^2 - f(x_i) \\|$ for many random points $x_i$ \n",
    "* Visualize the function that it learns\n",
    "\n",
    "\n",
    "Gradient descent works as follows:\n",
    "\n",
    "* Randomly initialize model parameters $\\theta$\n",
    "* Repeat: $\\theta_{t+1} \\leftarrow \\theta_t - \\alpha \\frac{\\partial \\mathcal{L}}{\\partial \\theta}$\n",
    "\n",
    "\n",
    "\n",
    "\n",
    "\n"
   ]
  },
  {
   "cell_type": "markdown",
   "metadata": {},
   "source": [
    "# Initialize the Model"
   ]
  },
  {
   "cell_type": "code",
   "execution_count": null,
   "metadata": {},
   "outputs": [],
   "source": [
    "n_hidden = 100\n",
    "model = nn.Sequential(\n",
    "        nn.Linear(1, n_hidden), \n",
    "        nn.ReLU(), \n",
    "        nn.Linear(n_hidden, n_hidden), \n",
    "        nn.ReLU(), \n",
    "        nn.Linear(n_hidden, 1)\n",
    "        )\n",
    "\n",
    "x = Variable(torch.linspace(-2, 2, 1000).view(-1, 1))\n",
    "y = model(x)\n",
    "plt.plot(x.data.squeeze().numpy(), y.data.squeeze().numpy())\n",
    "plt.title('f(x) before training')\n",
    "plt.xlabel('x')\n",
    "plt.ylabel('y')"
   ]
  },
  {
   "cell_type": "markdown",
   "metadata": {},
   "source": [
    "# Train the Model\n",
    "\n",
    "* Sample random points $x_i \\in [-2, 2]$\n",
    "* Minimize network weights with respect to $\\mathcal{L}(\\theta) = \\sum_i \\|x_i^2 - f(x_i) \\|$ "
   ]
  },
  {
   "cell_type": "code",
   "execution_count": null,
   "metadata": {},
   "outputs": [],
   "source": [
    "learning_rate = 0.01\n",
    "batch_size = 1000\n",
    "optimizer = optim.SGD(model.parameters(), learning_rate)\n",
    "loss = []\n",
    "for t in range(1000):\n",
    "    model.zero_grad()\n",
    "    # sample points in [-2, 2]\n",
    "    x = 4*(torch.rand(batch_size, 1) - 0.5)\n",
    "    x = Variable(x.view(-1, 1))\n",
    "    y = model(x)\n",
    "    current_loss = F.mse_loss(y, x**2)\n",
    "    current_loss.backward()\n",
    "    optimizer.step()\n",
    "    loss.append(current_loss.data[0])\n",
    "    \n",
    "plt.plot(loss)\n",
    "plt.xlabel('training steps')\n",
    "plt.ylabel('loss')"
   ]
  },
  {
   "cell_type": "markdown",
   "metadata": {},
   "source": [
    "# Show the Learned Function\n",
    "\n",
    "Let's compare the learned function to the true one on the interval $[-2, 2]$:"
   ]
  },
  {
   "cell_type": "code",
   "execution_count": null,
   "metadata": {},
   "outputs": [],
   "source": [
    "x = Variable(torch.linspace(-2, 2, 1000).view(-1, 1))\n",
    "y = model(x)\n",
    "x = x.data.squeeze()\n",
    "y = y.data.squeeze()\n",
    "y_true = x**2\n",
    "plt.plot(x.numpy(), y.numpy())\n",
    "plt.plot(x.numpy(), y_true.numpy())\n",
    "plt.xlabel('x')\n",
    "plt.ylabel('y')\n",
    "plt.legend(['learned function f(x)', 'true function'])"
   ]
  },
  {
   "cell_type": "markdown",
   "metadata": {},
   "source": [
    "# What about on a larger interval?\n",
    "\n",
    "Now let's compare on a larger interval $[-5, 5]$:"
   ]
  },
  {
   "cell_type": "code",
   "execution_count": null,
   "metadata": {},
   "outputs": [],
   "source": [
    "x = Variable(torch.linspace(-5, 5, 1000).view(-1, 1))\n",
    "y = model(x)\n",
    "x = x.data.squeeze()\n",
    "y = y.data.squeeze()\n",
    "y_true = x**2\n",
    "plt.plot(x.numpy(), y.numpy())\n",
    "plt.plot(x.numpy(), y_true.numpy())\n",
    "plt.xlabel('x')\n",
    "plt.ylabel('y')\n",
    "plt.legend(['learned function f(x)', 'true function'])"
   ]
  },
  {
   "cell_type": "markdown",
   "metadata": {},
   "source": [
    "* We only trained the function on points $x \\in [-2, 2]$. \n",
    "* For new points within this interval, the learned function is very close to the true one\n",
    "* However for points outside, it is no longer accurate\n",
    "\n",
    "* Generalization to new domains is a big challenge in machine learning"
   ]
  }
 ],
 "metadata": {
  "kernelspec": {
   "display_name": "Python 3",
   "language": "python",
   "name": "python3"
  },
  "language_info": {
   "codemirror_mode": {
    "name": "ipython",
    "version": 3
   },
   "file_extension": ".py",
   "mimetype": "text/x-python",
   "name": "python",
   "nbconvert_exporter": "python",
   "pygments_lexer": "ipython3",
   "version": "3.6.6"
  }
 },
 "nbformat": 4,
 "nbformat_minor": 2
}
